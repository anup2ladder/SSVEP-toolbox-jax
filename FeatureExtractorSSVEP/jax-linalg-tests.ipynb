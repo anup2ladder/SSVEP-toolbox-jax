{
 "cells": [
  {
   "cell_type": "code",
   "execution_count": 1,
   "id": "c23030e3-ba74-4f3a-b641-c569284bb102",
   "metadata": {},
   "outputs": [],
   "source": [
    "import jax\n",
    "import jax.numpy as jnp"
   ]
  },
  {
   "cell_type": "code",
   "execution_count": 7,
   "id": "9675ccd4-0967-4178-8c1b-f77d404ef687",
   "metadata": {},
   "outputs": [],
   "source": [
    "import numpy as np"
   ]
  },
  {
   "cell_type": "code",
   "execution_count": 2,
   "id": "d2684ee0-8f2c-43f4-aedc-87753d9b67b3",
   "metadata": {},
   "outputs": [
    {
     "name": "stderr",
     "output_type": "stream",
     "text": [
      "Platform 'METAL' is experimental and not all JAX functionality may be correctly supported!\n"
     ]
    },
    {
     "name": "stdout",
     "output_type": "stream",
     "text": [
      "Metal device set to: Apple M2 Max\n"
     ]
    },
    {
     "name": "stderr",
     "output_type": "stream",
     "text": [
      "WARNING: All log messages before absl::InitializeLog() is called are written to STDERR\n",
      "W0000 00:00:1732637267.014049 2866485 mps_client.cc:510] WARNING: JAX Apple GPU support is experimental and not all JAX functionality is correctly supported!\n",
      "I0000 00:00:1732637267.023402 2866485 service.cc:145] XLA service 0x6000002c6900 initialized for platform METAL (this does not guarantee that XLA will be used). Devices:\n",
      "I0000 00:00:1732637267.023411 2866485 service.cc:153]   StreamExecutor device (0): Metal, <undefined>\n",
      "I0000 00:00:1732637267.024771 2866485 mps_client.cc:406] Using Simple allocator.\n",
      "I0000 00:00:1732637267.024780 2866485 mps_client.cc:384] XLA backend will use up to 77309018112 bytes on device 0 for SimpleAllocator.\n"
     ]
    }
   ],
   "source": [
    "# Check for Metal devices\n",
    "metal_devices = [d for d in jax.devices() if d.platform == 'metal']"
   ]
  },
  {
   "cell_type": "code",
   "execution_count": 3,
   "id": "121f7b9d-3238-4f97-9c5a-f621570bcaaa",
   "metadata": {},
   "outputs": [
    {
     "name": "stdout",
     "output_type": "stream",
     "text": [
      "No Metal devices available\n"
     ]
    }
   ],
   "source": [
    "if metal_devices:\n",
    "    # Use the first Metal device\n",
    "    device = metal_devices[0]\n",
    "    \n",
    "    with jax.default_device(device):\n",
    "        A = jnp.random.randn(1000, 500)\n",
    "        Q, R = jnp.linalg.qr(A)\n",
    "else:\n",
    "    print(\"No Metal devices available\")"
   ]
  },
  {
   "cell_type": "code",
   "execution_count": 4,
   "id": "d266a032-8850-4a77-a3b8-34e8754d801e",
   "metadata": {},
   "outputs": [
    {
     "data": {
      "text/plain": [
       "[]"
      ]
     },
     "execution_count": 4,
     "metadata": {},
     "output_type": "execute_result"
    }
   ],
   "source": [
    "metal_devices"
   ]
  },
  {
   "cell_type": "code",
   "execution_count": 8,
   "id": "2cf0ae08-452c-48c3-8d1a-3b18d0a64fc5",
   "metadata": {},
   "outputs": [
    {
     "name": "stdout",
     "output_type": "stream",
     "text": [
      "Running on Metal backend.\n",
      "Error running on Metal backend: UNKNOWN: /var/folders/5b/t618zsqn799bvw97t8qmvj900000gn/T/ipykernel_36519/2631135550.py:6:0: error: failed to legalize operation 'mhlo.custom_call'\n",
      "/var/folders/5b/t618zsqn799bvw97t8qmvj900000gn/T/ipykernel_36519/2631135550.py:6:0: note: see current operation: %4:2 = \"mhlo.custom_call\"(%arg0) {backend_config = \"\", call_target_name = \"Qr\"} : (tensor<1000x500xf32>) -> (tensor<1000x500xf32>, tensor<500xf32>)\n",
      "\n"
     ]
    }
   ],
   "source": [
    "# Manually set the default device to Metal\n",
    "try:\n",
    "    # with jax.experimental.default_device(jax.devices(\"gpu\")[0]):\n",
    "    print(\"Running on Metal backend.\")\n",
    "    A = np.random.randn(1000, 500)\n",
    "    Q, R = jnp.linalg.qr(A)\n",
    "    print(\"QR decomposition successful.\")\n",
    "except Exception as e:\n",
    "    print(f\"Error running on Metal backend: {e}\")"
   ]
  },
  {
   "cell_type": "code",
   "execution_count": 10,
   "id": "5ebc1588-e075-4568-9a75-31085856b337",
   "metadata": {
    "editable": true,
    "slideshow": {
     "slide_type": ""
    },
    "tags": []
   },
   "outputs": [],
   "source": [
    "from jax import device_put, devices, device_get"
   ]
  },
  {
   "cell_type": "code",
   "execution_count": 11,
   "id": "6e7f533c-9496-483e-bddd-8614863054fd",
   "metadata": {},
   "outputs": [
    {
     "data": {
      "text/plain": [
       "[METAL(id=0)]"
      ]
     },
     "execution_count": 11,
     "metadata": {},
     "output_type": "execute_result"
    }
   ],
   "source": [
    "devices()"
   ]
  },
  {
   "cell_type": "code",
   "execution_count": 14,
   "id": "8ebd37a9-543d-49d1-83ce-35b91e4a6803",
   "metadata": {},
   "outputs": [],
   "source": [
    "gpu = devices(\"METAL\")[0]"
   ]
  },
  {
   "cell_type": "code",
   "execution_count": 15,
   "id": "23dc5012-5467-4abf-bacc-fd9d71d13ba2",
   "metadata": {},
   "outputs": [
    {
     "data": {
      "text/plain": [
       "METAL(id=0)"
      ]
     },
     "execution_count": 15,
     "metadata": {},
     "output_type": "execute_result"
    }
   ],
   "source": [
    "gpu"
   ]
  }
 ],
 "metadata": {
  "kernelspec": {
   "display_name": "Python 3 (ipykernel)",
   "language": "python",
   "name": "python3"
  },
  "language_info": {
   "codemirror_mode": {
    "name": "ipython",
    "version": 3
   },
   "file_extension": ".py",
   "mimetype": "text/x-python",
   "name": "python",
   "nbconvert_exporter": "python",
   "pygments_lexer": "ipython3",
   "version": "3.10.13"
  }
 },
 "nbformat": 4,
 "nbformat_minor": 5
}
