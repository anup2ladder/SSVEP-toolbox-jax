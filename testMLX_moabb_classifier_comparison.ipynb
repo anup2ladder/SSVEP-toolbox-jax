{
 "cells": [
  {
   "cell_type": "markdown",
   "metadata": {
    "editable": true,
    "slideshow": {
     "slide_type": ""
    },
    "tags": []
   },
   "source": [
    "# MOABB Classifier comparison\n",
    "\n",
    "This notebook takes multiple files and does the following pipeline:\n",
    "1) Import data and pre-process\n",
    "2) For each stimulus type \n",
    "    1) Run classifiers (i.e., CCA, MEC, MSI, and RG)\n",
    "    2) Store accuracy values\n",
    "\n",
    "A final plot for each stimulus type is plotted "
   ]
  },
  {
   "cell_type": "code",
   "execution_count": 1,
   "metadata": {},
   "outputs": [],
   "source": [
    "# Default libraries\n",
    "import re\n",
    "import mne\n",
    "import numpy as np\n",
    "import pandas as pd\n",
    "import seaborn as sns\n",
    "import matplotlib.pyplot as plt\n",
    "\n",
    "from sklearn.metrics import accuracy_score\n",
    "from sklearn.pipeline import make_pipeline\n",
    "\n",
    "from pyriemann.estimation import Covariances\n",
    "from pyriemann.tangentspace import TangentSpace\n",
    "\n",
    "from moabb.datasets import Wang2016, SSVEPExo\n",
    "from moabb.paradigms import FilterBankSSVEP, SSVEP\n",
    "from moabb.pipelines import ExtendedSSVEPSignal\n",
    "from sklearn.linear_model import LogisticRegression\n",
    "from moabb.evaluations import CrossSubjectEvaluation"
   ]
  },
  {
   "cell_type": "code",
   "execution_count": 2,
   "metadata": {},
   "outputs": [],
   "source": [
    "# Import custom libraries\n",
    "from ncantest import data_tools\n",
    "from ncantest import processing\n",
    "from ncantest import classification"
   ]
  },
  {
   "cell_type": "markdown",
   "metadata": {},
   "source": [
    "# MLX version"
   ]
  },
  {
   "cell_type": "code",
   "execution_count": 3,
   "metadata": {
    "editable": true,
    "slideshow": {
     "slide_type": ""
    },
    "tags": []
   },
   "outputs": [],
   "source": [
    "from FeatureExtractorSSVEP import FeatureExtractorCCA as CCA\n",
    "from FeatureExtractorSSVEP import FeatureExtractorMSI as MSI\n",
    "from FeatureExtractorSSVEP import FeatureExtractorMEC as MEC\n",
    "\n",
    "# Magic command to reload libraries\n",
    "%reload_ext autoreload"
   ]
  },
  {
   "cell_type": "markdown",
   "metadata": {},
   "source": [
    "## Settings\n",
    "\n",
    "Note that if the `Wang2016` is not already downloaded, it'll be downloaded the first time you run this section of the code."
   ]
  },
  {
   "cell_type": "code",
   "execution_count": 4,
   "metadata": {},
   "outputs": [],
   "source": [
    "mne.set_config(\"MNE_DATA\", \"~/.mne\")"
   ]
  },
  {
   "cell_type": "code",
   "execution_count": 5,
   "metadata": {},
   "outputs": [
    {
     "data": {
      "text/plain": [
       "'~/.mne'"
      ]
     },
     "execution_count": 5,
     "metadata": {},
     "output_type": "execute_result"
    }
   ],
   "source": [
    "mne.get_config(\"MNE_DATA\")"
   ]
  },
  {
   "cell_type": "code",
   "execution_count": 6,
   "metadata": {},
   "outputs": [],
   "source": [
    "# Import and epoch data\n",
    "dataset = Wang2016()"
   ]
  },
  {
   "cell_type": "code",
   "execution_count": 7,
   "metadata": {},
   "outputs": [],
   "source": [
    "# Limit to 2 subjects to speed up during testing\n",
    "dataset.subject_list = dataset.subject_list[:2]"
   ]
  },
  {
   "cell_type": "code",
   "execution_count": 8,
   "metadata": {},
   "outputs": [
    {
     "name": "stderr",
     "output_type": "stream",
     "text": [
      "Trial data de-meaned and concatenated with a buffer to create continuous data\n",
      "Trial data de-meaned and concatenated with a buffer to create continuous data\n"
     ]
    }
   ],
   "source": [
    "data = dataset.get_data()"
   ]
  },
  {
   "cell_type": "code",
   "execution_count": 9,
   "metadata": {},
   "outputs": [],
   "source": [
    "eeg_channels = [\"O1\",\"Oz\",\"O2\"]\n",
    "\n",
    "# Information from dataset description\n",
    "nsubjects = len(data)\n",
    "# labels_dict = {\"13\":0, \"17\":2, \"21\":1}  # The order is changed because the labels in the dataset are incorrect\n",
    "# stimulus_freqs = [int(f) for f in labels_dict.keys()]\n",
    "\n",
    "stimulus_freqs = [float(freq) for freq in dataset.event_id.keys()]  # Stimulus frequencies [Hz]\n",
    "srate = data[1][\"0\"][\"0\"].info['sfreq'] # Sampling rate [Hz]\n",
    "tmin = 0.5  # Time of start of SSVEP stimulus [sec]\n",
    "tmax = 5.5  # Time of end of SSVEP stimulus [sec]\n",
    "\n",
    "# Classifier settings\n",
    "# - Create CCA subbands like in Chen et al. (2015) paper\n",
    "first_column = np.arange(1, 11) * 8\n",
    "second_column = np.full(10, 88)\n",
    "cca_subbands = np.column_stack((first_column, second_column))\n",
    "harmonic_count = 2\n",
    "classifiers = [\"fbCCA\", \"MSI\", \"MEC\", \"RG_logreg\"]\n",
    "\n",
    "# Create an empty dataframe to store the accuracies\n",
    "accuracy_df = pd.DataFrame(\n",
    "    index = np.arange(0, nsubjects),\n",
    "    columns = classifiers\n",
    "    )\n",
    "accuracy_df.index.name = \"Subject\""
   ]
  },
  {
   "cell_type": "markdown",
   "metadata": {
    "editable": true,
    "slideshow": {
     "slide_type": ""
    },
    "tags": []
   },
   "source": [
    "## Separate epochs\n",
    "\n",
    "From the raw recording datasets, create the EEG epochs using just the periods where the SSVEP stimulus was active."
   ]
  },
  {
   "cell_type": "code",
   "execution_count": 10,
   "metadata": {
    "editable": true,
    "slideshow": {
     "slide_type": ""
    },
    "tags": []
   },
   "outputs": [],
   "source": [
    "# Preallocate data\n",
    "epochs_list = [None] * len(data)\n",
    "events_list = [None] * len(data)\n",
    "\n",
    "# Obtain epochs and events\n",
    "for s, subject in data.items():\n",
    "    [events_list[s-1], epochs_list[s-1]] = data_tools.moabb_events_to_np(\n",
    "        mne_raw = subject[\"0\"][\"0\"],\n",
    "        tmin = tmin,\n",
    "        tmax = tmax,\n",
    "        events_dict = dataset.event_id,\n",
    "        chans = eeg_channels\n",
    "        )\n",
    "    \n",
    "# Convert lists to np.ndarrays\n",
    "# eeg_channels = data[1][\"0\"][\"0\"].ch_names\n",
    "epochs_np = np.float32(np.array(epochs_list))\n",
    "events_np = np.array(events_list[0][:,2]) - 1   # The `-1` is to make the labels start at 0"
   ]
  },
  {
   "cell_type": "markdown",
   "metadata": {},
   "source": [
    "## Classifiers"
   ]
  },
  {
   "cell_type": "markdown",
   "metadata": {},
   "source": [
    "### fbCCA"
   ]
  },
  {
   "cell_type": "code",
   "execution_count": 11,
   "metadata": {
    "editable": true,
    "slideshow": {
     "slide_type": ""
    },
    "tags": []
   },
   "outputs": [],
   "source": [
    "# Prototype and preallocate data\n",
    "cca = CCA()\n",
    "cca_accuracies = np.zeros(nsubjects)"
   ]
  },
  {
   "cell_type": "code",
   "execution_count": 12,
   "metadata": {},
   "outputs": [],
   "source": [
    "import mlx.core as mx"
   ]
  },
  {
   "cell_type": "code",
   "execution_count": 13,
   "metadata": {},
   "outputs": [
    {
     "data": {
      "text/plain": [
       "array([[0., 0., 0.],\n",
       "       [0., 0., 0.],\n",
       "       [0., 0., 0.]])"
      ]
     },
     "execution_count": 13,
     "metadata": {},
     "output_type": "execute_result"
    }
   ],
   "source": [
    "np.zeros((3,3))"
   ]
  },
  {
   "cell_type": "code",
   "execution_count": 14,
   "metadata": {},
   "outputs": [
    {
     "data": {
      "text/plain": [
       "array([[0, 0, 0],\n",
       "       [0, 0, 0],\n",
       "       [0, 0, 0]], dtype=float32)"
      ]
     },
     "execution_count": 14,
     "metadata": {},
     "output_type": "execute_result"
    }
   ],
   "source": [
    "mx.array(np.zeros((3,3)))"
   ]
  },
  {
   "cell_type": "code",
   "execution_count": 15,
   "metadata": {
    "editable": true,
    "slideshow": {
     "slide_type": ""
    },
    "tags": []
   },
   "outputs": [
    {
     "name": "stdout",
     "output_type": "stream",
     "text": [
      "<class 'list'>\n",
      "[array([[ 0.00939782,  0.01879564,  0.00939782,  1.        ,  0.56636877,\n",
      "         0.08486646],\n",
      "       [ 1.        ,  2.        ,  1.        ,  1.        ,  0.6077042 ,\n",
      "         0.1334053 ],\n",
      "       [ 1.        ,  2.        ,  1.        ,  1.        ,  0.68305368,\n",
      "         0.22721095],\n",
      "       [ 1.        ,  2.        ,  1.        ,  1.        ,  0.78677111,\n",
      "         0.36643737],\n",
      "       [ 1.        ,  2.        ,  1.        ,  1.        ,  0.9197439 ,\n",
      "         0.55950087],\n",
      "       [ 1.        , -2.        ,  1.        ,  1.        , -1.5981173 ,\n",
      "         0.63922102],\n",
      "       [ 1.        , -2.        ,  1.        ,  1.        , -1.62951051,\n",
      "         0.66979055],\n",
      "       [ 1.        , -2.        ,  1.        ,  1.        , -1.68364905,\n",
      "         0.72288634],\n",
      "       [ 1.        , -2.        ,  1.        ,  1.        , -1.75185461,\n",
      "         0.79041387],\n",
      "       [ 1.        ,  2.        ,  1.        ,  1.        ,  1.09064994,\n",
      "         0.8269035 ],\n",
      "       [ 1.        , -2.        ,  1.        ,  1.        , -1.82932982,\n",
      "         0.86790679],\n",
      "       [ 1.        , -2.        ,  1.        ,  1.        , -1.91438046,\n",
      "         0.95385129]]), array([[ 0.00344057,  0.00688114,  0.00344057,  1.        ,  0.42935979,\n",
      "         0.05382958],\n",
      "       [ 1.        ,  2.        ,  1.        ,  1.        ,  0.52088108,\n",
      "         0.1274835 ],\n",
      "       [ 1.        ,  2.        ,  1.        ,  1.        ,  0.64441059,\n",
      "         0.24490674],\n",
      "       [ 1.        , -2.        ,  1.        ,  1.        , -1.17199059,\n",
      "         0.34707725],\n",
      "       [ 1.        ,  2.        ,  1.        ,  1.        ,  0.78022255,\n",
      "         0.39720745],\n",
      "       [ 1.        , -2.        ,  1.        ,  1.        , -1.25999336,\n",
      "         0.42298542],\n",
      "       [ 1.        , -2.        ,  1.        ,  1.        , -1.37598683,\n",
      "         0.52837616],\n",
      "       [ 1.        ,  2.        ,  1.        ,  1.        ,  0.92905155,\n",
      "         0.59059795],\n",
      "       [ 1.        , -2.        ,  1.        ,  1.        , -1.49909085,\n",
      "         0.6462177 ],\n",
      "       [ 1.        , -2.        ,  1.        ,  1.        , -1.62782881,\n",
      "         0.77533185],\n",
      "       [ 1.        ,  2.        ,  1.        ,  1.        ,  1.09883668,\n",
      "         0.84247073],\n",
      "       [ 1.        , -2.        ,  1.        ,  1.        , -1.76596464,\n",
      "         0.9197958 ]]), array([[ 1.13082570e-03,  2.26165140e-03,  1.13082570e-03,\n",
      "         1.00000000e+00,  2.24905190e-01,  3.44961629e-02],\n",
      "       [ 1.00000000e+00, -2.00000000e+00,  1.00000000e+00,\n",
      "         1.00000000e+00, -6.84956143e-01,  1.34836159e-01],\n",
      "       [ 1.00000000e+00,  2.00000000e+00,  1.00000000e+00,\n",
      "         1.00000000e+00,  4.46024304e-01,  1.45567425e-01],\n",
      "       [ 1.00000000e+00, -2.00000000e+00,  1.00000000e+00,\n",
      "         1.00000000e+00, -9.05763579e-01,  2.74243775e-01],\n",
      "       [ 1.00000000e+00,  2.00000000e+00,  1.00000000e+00,\n",
      "         1.00000000e+00,  6.24172011e-01,  2.79342509e-01],\n",
      "       [ 1.00000000e+00, -2.00000000e+00,  1.00000000e+00,\n",
      "         1.00000000e+00, -1.08324269e+00,  4.13756763e-01],\n",
      "       [ 1.00000000e+00,  2.00000000e+00,  1.00000000e+00,\n",
      "         1.00000000e+00,  7.84978351e-01,  4.35885746e-01],\n",
      "       [ 1.00000000e+00, -2.00000000e+00,  1.00000000e+00,\n",
      "         1.00000000e+00, -1.24291836e+00,  5.58694009e-01],\n",
      "       [ 1.00000000e+00,  2.00000000e+00,  1.00000000e+00,\n",
      "         1.00000000e+00,  9.42409623e-01,  6.23484007e-01],\n",
      "       [ 1.00000000e+00, -2.00000000e+00,  1.00000000e+00,\n",
      "         1.00000000e+00, -1.39855376e+00,  7.16533534e-01],\n",
      "       [ 1.00000000e+00,  2.00000000e+00,  1.00000000e+00,\n",
      "         1.00000000e+00,  1.10715113e+00,  8.57568034e-01],\n",
      "       [ 1.00000000e+00, -2.00000000e+00,  1.00000000e+00,\n",
      "         1.00000000e+00, -1.56044545e+00,  8.96993388e-01]]), array([[ 3.20995987e-04,  6.41991974e-04,  3.20995987e-04,\n",
      "         1.00000000e+00,  1.25068425e-01,  9.72452122e-02],\n",
      "       [ 1.00000000e+00, -2.00000000e+00,  1.00000000e+00,\n",
      "         1.00000000e+00, -3.03318221e-01,  1.13087986e-01],\n",
      "       [ 1.00000000e+00,  2.00000000e+00,  1.00000000e+00,\n",
      "         1.00000000e+00,  4.21511152e-01,  1.99147967e-01],\n",
      "       [ 1.00000000e+00, -2.00000000e+00,  1.00000000e+00,\n",
      "         1.00000000e+00, -6.00233192e-01,  2.32267002e-01],\n",
      "       [ 1.00000000e+00,  2.00000000e+00,  1.00000000e+00,\n",
      "         1.00000000e+00,  6.28427725e-01,  3.30275868e-01],\n",
      "       [ 1.00000000e+00, -2.00000000e+00,  1.00000000e+00,\n",
      "         1.00000000e+00, -8.08162091e-01,  3.68893875e-01],\n",
      "       [ 1.00000000e+00,  2.00000000e+00,  1.00000000e+00,\n",
      "         1.00000000e+00,  8.00804217e-01,  4.81396631e-01],\n",
      "       [ 1.00000000e+00, -2.00000000e+00,  1.00000000e+00,\n",
      "         1.00000000e+00, -9.82248319e-01,  5.18257545e-01],\n",
      "       [ 1.00000000e+00,  2.00000000e+00,  1.00000000e+00,\n",
      "         1.00000000e+00,  9.59375943e-01,  6.58079691e-01],\n",
      "       [ 1.00000000e+00, -2.00000000e+00,  1.00000000e+00,\n",
      "         1.00000000e+00, -1.14352996e+00,  6.86561974e-01],\n",
      "       [ 1.00000000e+00,  2.00000000e+00,  1.00000000e+00,\n",
      "         1.00000000e+00,  1.11567327e+00,  8.72474675e-01],\n",
      "       [ 1.00000000e+00, -2.00000000e+00,  1.00000000e+00,\n",
      "         1.00000000e+00, -1.30411331e+00,  8.84623184e-01]]), array([[ 7.43564607e-05, -1.48712921e-04,  7.43564607e-05,\n",
      "         1.00000000e+00, -9.09943780e-02,  1.92893804e-01],\n",
      "       [ 1.00000000e+00,  2.00000000e+00,  1.00000000e+00,\n",
      "         1.00000000e+00,  1.99463130e-01,  1.98247191e-01],\n",
      "       [ 1.00000000e+00, -2.00000000e+00,  1.00000000e+00,\n",
      "         1.00000000e+00, -3.44756294e-01,  2.64370554e-01],\n",
      "       [ 1.00000000e+00,  2.00000000e+00,  1.00000000e+00,\n",
      "         1.00000000e+00,  4.53798847e-01,  2.77707917e-01],\n",
      "       [ 1.00000000e+00, -2.00000000e+00,  1.00000000e+00,\n",
      "         1.00000000e+00, -5.46161717e-01,  3.77112324e-01],\n",
      "       [ 1.00000000e+00,  2.00000000e+00,  1.00000000e+00,\n",
      "         1.00000000e+00,  6.56430594e-01,  3.94042160e-01],\n",
      "       [ 1.00000000e+00, -2.00000000e+00,  1.00000000e+00,\n",
      "         1.00000000e+00, -7.14454982e-01,  5.15952252e-01],\n",
      "       [ 1.00000000e+00,  2.00000000e+00,  1.00000000e+00,\n",
      "         1.00000000e+00,  8.26783627e-01,  5.32749337e-01],\n",
      "       [ 1.00000000e+00, -2.00000000e+00,  1.00000000e+00,\n",
      "         1.00000000e+00, -8.64164046e-01,  6.81363906e-01],\n",
      "       [ 1.00000000e+00,  2.00000000e+00,  1.00000000e+00,\n",
      "         1.00000000e+00,  9.79728399e-01,  6.94547839e-01],\n",
      "       [ 1.00000000e+00, -2.00000000e+00,  1.00000000e+00,\n",
      "         1.00000000e+00, -1.00390233e+00,  8.81840478e-01],\n",
      "       [ 1.00000000e+00,  2.00000000e+00,  1.00000000e+00,\n",
      "         1.00000000e+00,  1.12451295e+00,  8.87466221e-01]]), array([[ 1.28685936e-05, -2.57371872e-05,  1.28685936e-05,\n",
      "         1.00000000e+00,  9.24172377e-02,  2.91629815e-01],\n",
      "       [ 1.00000000e+00,  2.00000000e+00,  1.00000000e+00,\n",
      "         1.00000000e+00,  3.13786693e-01,  3.04048564e-01],\n",
      "       [ 1.00000000e+00, -2.00000000e+00,  1.00000000e+00,\n",
      "         1.00000000e+00, -1.13142104e-01,  3.35441505e-01],\n",
      "       [ 1.00000000e+00,  2.00000000e+00,  1.00000000e+00,\n",
      "         1.00000000e+00,  5.22285609e-01,  3.68348342e-01],\n",
      "       [ 1.00000000e+00, -2.00000000e+00,  1.00000000e+00,\n",
      "         1.00000000e+00, -2.88566701e-01,  4.23186693e-01],\n",
      "       [ 1.00000000e+00,  2.00000000e+00,  1.00000000e+00,\n",
      "         1.00000000e+00,  7.03957825e-01,  4.67198235e-01],\n",
      "       [ 1.00000000e+00, -2.00000000e+00,  1.00000000e+00,\n",
      "         1.00000000e+00, -4.36242295e-01,  5.44548971e-01],\n",
      "       [ 1.00000000e+00,  2.00000000e+00,  1.00000000e+00,\n",
      "         1.00000000e+00,  8.62021594e-01,  5.89495080e-01],\n",
      "       [ 1.00000000e+00, -2.00000000e+00,  1.00000000e+00,\n",
      "         1.00000000e+00, -5.61647889e-01,  6.97662050e-01],\n",
      "       [ 1.00000000e+00,  2.00000000e+00,  1.00000000e+00,\n",
      "         1.00000000e+00,  1.00348426e+00,  7.33291640e-01],\n",
      "       [ 1.00000000e+00, -2.00000000e+00,  1.00000000e+00,\n",
      "         1.00000000e+00, -6.67551284e-01,  8.87724237e-01],\n",
      "       [ 1.00000000e+00,  2.00000000e+00,  1.00000000e+00,\n",
      "         1.00000000e+00,  1.13381070e+00,  9.02832162e-01]]), array([[ 1.43398147e-06, -2.86796294e-06,  1.43398147e-06,\n",
      "         1.00000000e+00,  2.75466378e-01,  4.01602893e-01],\n",
      "       [ 1.00000000e+00, -2.00000000e+00,  1.00000000e+00,\n",
      "         1.00000000e+00,  4.46529376e-01,  4.15239281e-01],\n",
      "       [ 1.00000000e+00,  2.00000000e+00,  1.00000000e+00,\n",
      "         1.00000000e+00,  1.14396788e-01,  4.29995772e-01],\n",
      "       [ 1.00000000e+00,  2.00000000e+00,  1.00000000e+00,\n",
      "         1.00000000e+00,  6.13676961e-01,  4.67111341e-01],\n",
      "       [ 1.00000000e+00, -2.00000000e+00,  1.00000000e+00,\n",
      "         1.00000000e+00, -2.66890288e-02,  4.97267126e-01],\n",
      "       [ 1.00000000e+00,  2.00000000e+00,  1.00000000e+00,\n",
      "         1.00000000e+00,  7.67570706e-01,  5.48401763e-01],\n",
      "       [ 1.00000000e+00, -2.00000000e+00,  1.00000000e+00,\n",
      "         1.00000000e+00, -1.44276222e-01,  5.98751203e-01],\n",
      "       [ 1.00000000e+00,  2.00000000e+00,  1.00000000e+00,\n",
      "         1.00000000e+00,  9.06129145e-01,  6.51924678e-01],\n",
      "       [ 1.00000000e+00, -2.00000000e+00,  1.00000000e+00,\n",
      "         1.00000000e+00, -2.37426682e-01,  7.32702386e-01],\n",
      "       [ 1.00000000e+00,  2.00000000e+00,  1.00000000e+00,\n",
      "         1.00000000e+00,  1.03091997e+00,  7.74977362e-01],\n",
      "       [ 1.00000000e+00, -2.00000000e+00,  1.00000000e+00,\n",
      "         1.00000000e+00, -3.03849745e-01,  9.01211980e-01],\n",
      "       [ 1.00000000e+00,  2.00000000e+00,  1.00000000e+00,\n",
      "         1.00000000e+00,  1.14374521e+00,  9.18897562e-01]]), array([[ 7.77045915e-08, -1.55409183e-07,  7.77045915e-08,\n",
      "         1.00000000e+00,  4.68693827e-01,  5.23497511e-01],\n",
      "       [ 1.00000000e+00, -2.00000000e+00,  1.00000000e+00,\n",
      "         1.00000000e+00,  5.95845381e-01,  5.34995742e-01],\n",
      "       [ 1.00000000e+00, -2.00000000e+00,  1.00000000e+00,\n",
      "         1.00000000e+00,  3.50074754e-01,  5.43187861e-01],\n",
      "       [ 1.00000000e+00, -2.00000000e+00,  1.00000000e+00,\n",
      "         1.00000000e+00,  7.23704715e-01,  5.74865690e-01],\n",
      "       [ 1.00000000e+00, -2.00000000e+00,  1.00000000e+00,\n",
      "         1.00000000e+00,  2.46960649e-01,  5.94102870e-01],\n",
      "       [ 1.00000000e+00, -2.00000000e+00,  1.00000000e+00,\n",
      "         1.00000000e+00,  8.46052979e-01,  6.38387485e-01],\n",
      "       [ 1.00000000e+00,  2.00000000e+00,  1.00000000e+00,\n",
      "         1.00000000e+00,  1.64346256e-01,  6.74770496e-01],\n",
      "       [ 1.00000000e+00,  2.00000000e+00,  1.00000000e+00,\n",
      "         1.00000000e+00,  9.59482859e-01,  7.21167445e-01],\n",
      "       [ 1.00000000e+00,  2.00000000e+00,  1.00000000e+00,\n",
      "         1.00000000e+00,  1.06182434e-01,  7.83902490e-01],\n",
      "       [ 1.00000000e+00,  2.00000000e+00,  1.00000000e+00,\n",
      "         1.00000000e+00,  1.06261176e+00,  8.20601286e-01],\n",
      "       [ 1.00000000e+00,  2.00000000e+00,  1.00000000e+00,\n",
      "         1.00000000e+00,  7.70669837e-02,  9.21019303e-01],\n",
      "       [ 1.00000000e+00,  2.00000000e+00,  1.00000000e+00,\n",
      "         1.00000000e+00,  1.15454692e+00,  9.36052104e-01]]), array([[ 1.08608248e-09, -2.17216496e-09,  1.08608248e-09,\n",
      "         1.00000000e+00,  6.80120499e-01,  6.60329764e-01],\n",
      "       [ 1.00000000e+00, -2.00000000e+00,  1.00000000e+00,\n",
      "         1.00000000e+00,  7.65117949e-01,  6.67690106e-01],\n",
      "       [ 1.00000000e+00, -2.00000000e+00,  1.00000000e+00,\n",
      "         1.00000000e+00,  6.03104503e-01,  6.74645833e-01],\n",
      "       [ 1.00000000e+00, -2.00000000e+00,  1.00000000e+00,\n",
      "         1.00000000e+00,  8.53323796e-01,  6.95000657e-01],\n",
      "       [ 1.00000000e+00, -2.00000000e+00,  1.00000000e+00,\n",
      "         1.00000000e+00,  5.38797789e-01,  7.11220369e-01],\n",
      "       [ 1.00000000e+00, -2.00000000e+00,  1.00000000e+00,\n",
      "         1.00000000e+00,  9.40526492e-01,  7.39767490e-01],\n",
      "       [ 1.00000000e+00,  2.00000000e+00,  1.00000000e+00,\n",
      "         1.00000000e+00,  4.91497463e-01,  7.69567109e-01],\n",
      "       [ 1.00000000e+00,  2.00000000e+00,  1.00000000e+00,\n",
      "         1.00000000e+00,  1.02343163e+00,  7.99382434e-01],\n",
      "       [ 1.00000000e+00,  2.00000000e+00,  1.00000000e+00,\n",
      "         1.00000000e+00,  4.65113036e-01,  8.48382055e-01],\n",
      "       [ 1.00000000e+00,  2.00000000e+00,  1.00000000e+00,\n",
      "         1.00000000e+00,  1.09951861e+00,  8.71629568e-01],\n",
      "       [ 1.00000000e+00,  2.00000000e+00,  1.00000000e+00,\n",
      "         1.00000000e+00,  4.63419116e-01,  9.45542120e-01],\n",
      "       [ 1.00000000e+00,  2.00000000e+00,  1.00000000e+00,\n",
      "         1.00000000e+00,  1.16652013e+00,  9.54792500e-01]]), array([[ 5.12812940e-13, -1.02562588e-12,  5.12812940e-13,\n",
      "         1.00000000e+00,  9.18634895e-01,  8.16875147e-01],\n",
      "       [ 1.00000000e+00, -2.00000000e+00,  1.00000000e+00,\n",
      "         1.00000000e+00,  9.61264772e-01,  8.19521932e-01],\n",
      "       [ 1.00000000e+00, -2.00000000e+00,  1.00000000e+00,\n",
      "         1.00000000e+00,  8.82094070e-01,  8.26095745e-01],\n",
      "       [ 1.00000000e+00, -2.00000000e+00,  1.00000000e+00,\n",
      "         1.00000000e+00,  1.00744062e+00,  8.33395908e-01],\n",
      "       [ 1.00000000e+00, -2.00000000e+00,  1.00000000e+00,\n",
      "         1.00000000e+00,  8.54104881e-01,  8.47258422e-01],\n",
      "       [ 1.00000000e+00, -2.00000000e+00,  1.00000000e+00,\n",
      "         1.00000000e+00,  1.05467890e+00,  8.57423015e-01],\n",
      "       [ 1.00000000e+00,  2.00000000e+00,  1.00000000e+00,\n",
      "         1.00000000e+00,  8.36892323e-01,  8.79773925e-01],\n",
      "       [ 1.00000000e+00,  2.00000000e+00,  1.00000000e+00,\n",
      "         1.00000000e+00,  1.10064125e+00,  8.90234950e-01],\n",
      "       [ 1.00000000e+00,  2.00000000e+00,  1.00000000e+00,\n",
      "         1.00000000e+00,  8.32286582e-01,  9.22314632e-01],\n",
      "       [ 1.00000000e+00,  2.00000000e+00,  1.00000000e+00,\n",
      "         1.00000000e+00,  1.14314095e+00,  9.30269293e-01],\n",
      "       [ 1.00000000e+00,  2.00000000e+00,  1.00000000e+00,\n",
      "         1.00000000e+00,  8.41546964e-01,  9.72740319e-01],\n",
      "       [ 1.00000000e+00,  2.00000000e+00,  1.00000000e+00,\n",
      "         1.00000000e+00,  1.18007991e+00,  9.75789436e-01]])]\n",
      "TEST\n"
     ]
    },
    {
     "ename": "AttributeError",
     "evalue": "'ArrayAt' object has no attribute 'set'",
     "output_type": "error",
     "traceback": [
      "\u001b[0;31m---------------------------------------------------------------------------\u001b[0m",
      "\u001b[0;31mAttributeError\u001b[0m                            Traceback (most recent call last)",
      "Cell \u001b[0;32mIn[15], line 1\u001b[0m\n\u001b[0;32m----> 1\u001b[0m \u001b[43mcca\u001b[49m\u001b[38;5;241;43m.\u001b[39;49m\u001b[43msetup_feature_extractor\u001b[49m\u001b[43m(\u001b[49m\n\u001b[1;32m      2\u001b[0m \u001b[43m    \u001b[49m\u001b[43mharmonics_count\u001b[49m\u001b[43m \u001b[49m\u001b[38;5;241;43m=\u001b[39;49m\u001b[43m \u001b[49m\u001b[43mharmonic_count\u001b[49m\u001b[43m,\u001b[49m\n\u001b[1;32m      3\u001b[0m \u001b[43m    \u001b[49m\u001b[43mtargets_frequencies\u001b[49m\u001b[43m \u001b[49m\u001b[38;5;241;43m=\u001b[39;49m\u001b[43m \u001b[49m\u001b[43mstimulus_freqs\u001b[49m\u001b[43m,\u001b[49m\n\u001b[1;32m      4\u001b[0m \u001b[43m    \u001b[49m\u001b[43msampling_frequency\u001b[49m\u001b[43m \u001b[49m\u001b[38;5;241;43m=\u001b[39;49m\u001b[43m \u001b[49m\u001b[43msrate\u001b[49m\u001b[43m,\u001b[49m\n\u001b[1;32m      5\u001b[0m \u001b[43m    \u001b[49m\u001b[43msamples_count\u001b[49m\u001b[43m \u001b[49m\u001b[38;5;241;43m=\u001b[39;49m\u001b[43m \u001b[49m\u001b[43mepochs_np\u001b[49m\u001b[38;5;241;43m.\u001b[39;49m\u001b[43mshape\u001b[49m\u001b[43m[\u001b[49m\u001b[38;5;241;43m-\u001b[39;49m\u001b[38;5;241;43m1\u001b[39;49m\u001b[43m]\u001b[49m\u001b[43m,\u001b[49m\n\u001b[1;32m      6\u001b[0m \u001b[43m    \u001b[49m\u001b[43mfilter_order\u001b[49m\u001b[43m \u001b[49m\u001b[38;5;241;43m=\u001b[39;49m\u001b[43m \u001b[49m\u001b[38;5;241;43m12\u001b[39;49m\u001b[43m,\u001b[49m\n\u001b[1;32m      7\u001b[0m \u001b[43m    \u001b[49m\u001b[43msubbands\u001b[49m\u001b[43m \u001b[49m\u001b[38;5;241;43m=\u001b[39;49m\u001b[43m \u001b[49m\u001b[43mcca_subbands\u001b[49m\u001b[43m,\u001b[49m\n\u001b[1;32m      8\u001b[0m \u001b[43m    \u001b[49m\u001b[43muse_gpu\u001b[49m\u001b[38;5;241;43m=\u001b[39;49m\u001b[38;5;28;43;01mFalse\u001b[39;49;00m\n\u001b[1;32m      9\u001b[0m \u001b[43m    \u001b[49m\u001b[43m)\u001b[49m\n",
      "File \u001b[0;32m~/Documents/Work/TengenToppa/GitHub/sherpaNet/SSVEP-toolbox-macos/FeatureExtractorSSVEP/featureExtractorCCA.py:161\u001b[0m, in \u001b[0;36mFeatureExtractorCCA.setup_feature_extractor\u001b[0;34m(self, harmonics_count, targets_frequencies, sampling_frequency, subbands, max_correlation_only, embedding_dimension, delay_step, filter_order, filter_cutoff_low, filter_cutoff_high, voters_count, random_seed, use_gpu, max_batch_size, explicit_multithreading, samples_count)\u001b[0m\n\u001b[1;32m     26\u001b[0m \u001b[38;5;28;01mdef\u001b[39;00m \u001b[38;5;21msetup_feature_extractor\u001b[39m(\n\u001b[1;32m     27\u001b[0m         \u001b[38;5;28mself\u001b[39m, \n\u001b[1;32m     28\u001b[0m         harmonics_count,\n\u001b[0;32m   (...)\u001b[0m\n\u001b[1;32m     42\u001b[0m         explicit_multithreading\u001b[38;5;241m=\u001b[39m\u001b[38;5;241m0\u001b[39m,\n\u001b[1;32m     43\u001b[0m         samples_count\u001b[38;5;241m=\u001b[39m\u001b[38;5;241m0\u001b[39m):\n\u001b[1;32m     44\u001b[0m \u001b[38;5;250m    \u001b[39m\u001b[38;5;124;03m\"\"\"\u001b[39;00m\n\u001b[1;32m     45\u001b[0m \u001b[38;5;124;03m    Setup the feature extractor parameters CCA.\u001b[39;00m\n\u001b[1;32m     46\u001b[0m \u001b[38;5;124;03m    \u001b[39;00m\n\u001b[0;32m   (...)\u001b[0m\n\u001b[1;32m    159\u001b[0m \u001b[38;5;124;03m    and terminate the execution. \u001b[39;00m\n\u001b[1;32m    160\u001b[0m \u001b[38;5;124;03m    \"\"\"\u001b[39;00m\n\u001b[0;32m--> 161\u001b[0m     \u001b[38;5;28;43mself\u001b[39;49m\u001b[38;5;241;43m.\u001b[39;49m\u001b[43mbuild_feature_extractor\u001b[49m\u001b[43m(\u001b[49m\n\u001b[1;32m    162\u001b[0m \u001b[43m        \u001b[49m\u001b[43mharmonics_count\u001b[49m\u001b[43m,\u001b[49m\n\u001b[1;32m    163\u001b[0m \u001b[43m        \u001b[49m\u001b[43mtargets_frequencies\u001b[49m\u001b[43m,\u001b[49m\n\u001b[1;32m    164\u001b[0m \u001b[43m        \u001b[49m\u001b[43msampling_frequency\u001b[49m\u001b[43m,\u001b[49m\n\u001b[1;32m    165\u001b[0m \u001b[43m        \u001b[49m\u001b[43msubbands\u001b[49m\u001b[38;5;241;43m=\u001b[39;49m\u001b[43msubbands\u001b[49m\u001b[43m,\u001b[49m\u001b[43m           \u001b[49m\n\u001b[1;32m    166\u001b[0m \u001b[43m        \u001b[49m\u001b[43membedding_dimension\u001b[49m\u001b[38;5;241;43m=\u001b[39;49m\u001b[43membedding_dimension\u001b[49m\u001b[43m,\u001b[49m\n\u001b[1;32m    167\u001b[0m \u001b[43m        \u001b[49m\u001b[43mdelay_step\u001b[49m\u001b[38;5;241;43m=\u001b[39;49m\u001b[43mdelay_step\u001b[49m\u001b[43m,\u001b[49m\n\u001b[1;32m    168\u001b[0m \u001b[43m        \u001b[49m\u001b[43mfilter_order\u001b[49m\u001b[38;5;241;43m=\u001b[39;49m\u001b[43mfilter_order\u001b[49m\u001b[43m,\u001b[49m\n\u001b[1;32m    169\u001b[0m \u001b[43m        \u001b[49m\u001b[43mfilter_cutoff_low\u001b[49m\u001b[38;5;241;43m=\u001b[39;49m\u001b[43mfilter_cutoff_low\u001b[49m\u001b[43m,\u001b[49m\n\u001b[1;32m    170\u001b[0m \u001b[43m        \u001b[49m\u001b[43mfilter_cutoff_high\u001b[49m\u001b[38;5;241;43m=\u001b[39;49m\u001b[43mfilter_cutoff_high\u001b[49m\u001b[43m,\u001b[49m\n\u001b[1;32m    171\u001b[0m \u001b[43m        \u001b[49m\u001b[43mvoters_count\u001b[49m\u001b[38;5;241;43m=\u001b[39;49m\u001b[43mvoters_count\u001b[49m\u001b[43m,\u001b[49m\n\u001b[1;32m    172\u001b[0m \u001b[43m        \u001b[49m\u001b[43mrandom_seed\u001b[49m\u001b[38;5;241;43m=\u001b[39;49m\u001b[43mrandom_seed\u001b[49m\u001b[43m,\u001b[49m\n\u001b[1;32m    173\u001b[0m \u001b[43m        \u001b[49m\u001b[43muse_gpu\u001b[49m\u001b[38;5;241;43m=\u001b[39;49m\u001b[43muse_gpu\u001b[49m\u001b[43m,\u001b[49m\n\u001b[1;32m    174\u001b[0m \u001b[43m        \u001b[49m\u001b[43mmax_batch_size\u001b[49m\u001b[38;5;241;43m=\u001b[39;49m\u001b[43mmax_batch_size\u001b[49m\u001b[43m,\u001b[49m\n\u001b[1;32m    175\u001b[0m \u001b[43m        \u001b[49m\u001b[43mexplicit_multithreading\u001b[49m\u001b[38;5;241;43m=\u001b[39;49m\u001b[43mexplicit_multithreading\u001b[49m\u001b[43m,\u001b[49m\n\u001b[1;32m    176\u001b[0m \u001b[43m        \u001b[49m\u001b[43msamples_count\u001b[49m\u001b[38;5;241;43m=\u001b[39;49m\u001b[43msamples_count\u001b[49m\u001b[43m)\u001b[49m\n\u001b[1;32m    178\u001b[0m     \u001b[38;5;28mself\u001b[39m\u001b[38;5;241m.\u001b[39mmax_correlation_only \u001b[38;5;241m=\u001b[39m max_correlation_only\n",
      "File \u001b[0;32m~/Documents/Work/TengenToppa/GitHub/sherpaNet/SSVEP-toolbox-macos/FeatureExtractorSSVEP/featureExtractor.py:140\u001b[0m, in \u001b[0;36mFeatureExtractor.build_feature_extractor\u001b[0;34m(self, harmonics_count, targets_frequencies, sampling_frequency, subbands, embedding_dimension, delay_step, filter_order, filter_cutoff_low, filter_cutoff_high, voters_count, random_seed, use_gpu, max_batch_size, explicit_multithreading, samples_count)\u001b[0m\n\u001b[1;32m    138\u001b[0m \u001b[38;5;66;03m# If samples_count is provided, \u001b[39;00m\n\u001b[1;32m    139\u001b[0m \u001b[38;5;28;01mif\u001b[39;00m samples_count \u001b[38;5;241m>\u001b[39m \u001b[38;5;241m0\u001b[39m:\n\u001b[0;32m--> 140\u001b[0m     \u001b[38;5;28;43mself\u001b[39;49m\u001b[38;5;241;43m.\u001b[39;49m\u001b[43mclass_specific_initializations\u001b[49m\u001b[43m(\u001b[49m\u001b[43m)\u001b[49m\n\u001b[1;32m    141\u001b[0m     \u001b[38;5;28mself\u001b[39m\u001b[38;5;241m.\u001b[39mclass_initialization_is_complete \u001b[38;5;241m=\u001b[39m \u001b[38;5;28;01mTrue\u001b[39;00m\n",
      "File \u001b[0;32m~/Documents/Work/TengenToppa/GitHub/sherpaNet/SSVEP-toolbox-macos/FeatureExtractorSSVEP/featureExtractorCCA.py:311\u001b[0m, in \u001b[0;36mFeatureExtractorCCA.class_specific_initializations\u001b[0;34m(self)\u001b[0m\n\u001b[1;32m    307\u001b[0m \u001b[38;5;28mself\u001b[39m\u001b[38;5;241m.\u001b[39mq_template \u001b[38;5;241m=\u001b[39m mx\u001b[38;5;241m.\u001b[39mzeros(\n\u001b[1;32m    308\u001b[0m     \u001b[38;5;28mself\u001b[39m\u001b[38;5;241m.\u001b[39mtemplate_signal\u001b[38;5;241m.\u001b[39mshape, dtype\u001b[38;5;241m=\u001b[39mmx\u001b[38;5;241m.\u001b[39mfloat32)\n\u001b[1;32m    310\u001b[0m \u001b[38;5;28;01mfor\u001b[39;00m i \u001b[38;5;129;01min\u001b[39;00m mx\u001b[38;5;241m.\u001b[39marange(\u001b[38;5;28mself\u001b[39m\u001b[38;5;241m.\u001b[39mtargets_count):        \n\u001b[0;32m--> 311\u001b[0m     \u001b[38;5;28mself\u001b[39m\u001b[38;5;241m.\u001b[39mq_template \u001b[38;5;241m=\u001b[39m \u001b[38;5;28;43mself\u001b[39;49m\u001b[38;5;241;43m.\u001b[39;49m\u001b[43mq_template\u001b[49m\u001b[38;5;241;43m.\u001b[39;49m\u001b[43mat\u001b[49m\u001b[43m[\u001b[49m\u001b[43mi\u001b[49m\u001b[43m]\u001b[49m\u001b[38;5;241;43m.\u001b[39;49m\u001b[43mset\u001b[49m(\n\u001b[1;32m    312\u001b[0m         mx\u001b[38;5;241m.\u001b[39mlinalg\u001b[38;5;241m.\u001b[39mqr(\u001b[38;5;28mself\u001b[39m\u001b[38;5;241m.\u001b[39mtemplate_signal[i])[\u001b[38;5;241m0\u001b[39m])\n\u001b[1;32m    314\u001b[0m \u001b[38;5;66;03m# Create handles\u001b[39;00m\n\u001b[1;32m    315\u001b[0m \u001b[38;5;28mself\u001b[39m\u001b[38;5;241m.\u001b[39mtemplate_signal_handle \u001b[38;5;241m=\u001b[39m \u001b[38;5;28mself\u001b[39m\u001b[38;5;241m.\u001b[39mhandle_generator(\n\u001b[1;32m    316\u001b[0m     \u001b[38;5;28mself\u001b[39m\u001b[38;5;241m.\u001b[39mtemplate_signal)\n",
      "\u001b[0;31mAttributeError\u001b[0m: 'ArrayAt' object has no attribute 'set'"
     ]
    }
   ],
   "source": [
    "cca.setup_feature_extractor(\n",
    "    harmonics_count = harmonic_count,\n",
    "    targets_frequencies = stimulus_freqs,\n",
    "    sampling_frequency = srate,\n",
    "    samples_count = epochs_np.shape[-1],\n",
    "    filter_order = 12,\n",
    "    subbands = cca_subbands,\n",
    "    use_gpu=False\n",
    "    )\n",
    "    "
   ]
  },
  {
   "cell_type": "code",
   "execution_count": null,
   "metadata": {
    "editable": true,
    "slideshow": {
     "slide_type": ""
    },
    "tags": []
   },
   "outputs": [],
   "source": [
    "# Classify all epochs per subject\n",
    "for s, subject in enumerate(epochs_np):\n",
    "    cca_features = cca.extract_features(subject)\n",
    "    cca_predictions = np.argmax(np.max(np.squeeze(cca_features), axis=1), axis=1)\n",
    "    cca_accuracies[s] = accuracy_score(events_np, cca_predictions)"
   ]
  },
  {
   "cell_type": "code",
   "execution_count": null,
   "metadata": {},
   "outputs": [],
   "source": [
    "cca_accuracies"
   ]
  },
  {
   "cell_type": "code",
   "execution_count": null,
   "metadata": {
    "editable": true,
    "slideshow": {
     "slide_type": ""
    },
    "tags": []
   },
   "outputs": [],
   "source": [
    "\n",
    "accuracy_df[\"fbCCA\"] = cca_accuracies\n",
    "    "
   ]
  },
  {
   "cell_type": "code",
   "execution_count": null,
   "metadata": {},
   "outputs": [],
   "source": [
    "accuracy_df[\"fbCCA\"]"
   ]
  },
  {
   "cell_type": "markdown",
   "metadata": {
    "editable": true,
    "slideshow": {
     "slide_type": ""
    },
    "tags": []
   },
   "source": [
    "### MEC"
   ]
  },
  {
   "cell_type": "raw",
   "metadata": {},
   "source": [
    "# Prototype and preallocate data\n",
    "mec = MEC()\n",
    "mec_accuracies = np.zeros(nsubjects)\n",
    "\n",
    "mec.setup_feature_extractor(\n",
    "    harmonics_count = harmonic_count,\n",
    "    targets_frequencies = stimulus_freqs,\n",
    "    sampling_frequency = srate,\n",
    "    samples_count = epochs_np.shape[-1]\n",
    ")\n",
    "\n",
    "# Classify all epochs per subject\n",
    "for s, subject in enumerate(epochs_np):\n",
    "    mec_features = mec.extract_features(subject)\n",
    "    mec_predictions = np.argmax(np.squeeze(mec_features), axis=1)\n",
    "    mec_accuracies[s] = accuracy_score(events_np, mec_predictions)\n",
    "\n",
    "accuracy_df[\"MEC\"] = mec_accuracies"
   ]
  },
  {
   "cell_type": "markdown",
   "metadata": {},
   "source": [
    "### MSI"
   ]
  },
  {
   "cell_type": "raw",
   "metadata": {},
   "source": [
    "# Prototype and preallocate data\n",
    "msi = MSI()\n",
    "msi_accuracies = np.zeros(nsubjects)\n",
    "\n",
    "msi.setup_feature_extractor(\n",
    "    harmonics_count = harmonic_count,\n",
    "    targets_frequencies = stimulus_freqs,\n",
    "    sampling_frequency = srate,\n",
    "    samples_count = epochs_np.shape[-1]\n",
    ")\n",
    "\n",
    "# Classify all epochs per subject\n",
    "for s, subject in enumerate(epochs_np):\n",
    "    msi_features = msi.extract_features(subject)\n",
    "    msi_predictions = np.argmax(np.squeeze(msi_features), axis=1)\n",
    "    msi_accuracies[s] = accuracy_score(events_np, msi_predictions)\n",
    "\n",
    "accuracy_df[\"MSI\"] = msi_accuracies"
   ]
  },
  {
   "cell_type": "markdown",
   "metadata": {},
   "source": [
    "### Riemmanian geometry + logistic regression\n",
    "**IGNORE – FROM MOABB**"
   ]
  },
  {
   "cell_type": "raw",
   "metadata": {},
   "source": [
    "paradigm_fb = FilterBankSSVEP(\n",
    "    filters = None,\n",
    "    n_classes = 10,\n",
    "    tmin = tmin,\n",
    "    tmax = tmax,\n",
    "    channels = eeg_channels,\n",
    ")\n",
    "\n",
    "# paradigm = SSVEP(\n",
    "#     fmin = 6,\n",
    "#     fmax = 90,\n",
    "#     n_classes = 5,\n",
    "#     tmin = tmin,\n",
    "#     tmax = tmax,\n",
    "# )\n",
    "\n",
    "pipeline_rg = {}\n",
    "pipeline_rg[\"RG+LogReg\"] = make_pipeline(\n",
    "    ExtendedSSVEPSignal(),\n",
    "    Covariances(estimator=\"lwf\"),\n",
    "    TangentSpace(),\n",
    "    LogisticRegression(solver=\"lbfgs\", multi_class=\"auto\"),\n",
    ")\n",
    "\n",
    "evaluation_rg = CrossSubjectEvaluation(\n",
    "    paradigm = paradigm_fb,\n",
    "    datasets = dataset,\n",
    "    overwrite = False\n",
    ")\n",
    "\n",
    "accuracy_rg = evaluation_rg.process(pipeline_rg)\n"
   ]
  },
  {
   "cell_type": "raw",
   "metadata": {},
   "source": [
    "accuracy_df[\"RG_logreg\"] = accuracy_rg[\"score\"]"
   ]
  },
  {
   "cell_type": "raw",
   "metadata": {},
   "source": [
    "## Testing code, might have to be removed\n",
    "# Preallocate data\n",
    "# rg_accuracies = np.zeros(nsubjects)\n",
    "\n",
    "# # Classify all epochs per subject\n",
    "# for s, subject in enumerate(epochs_np):\n",
    "#     rg_predictions = classification.fb_rg_logreg(\n",
    "#         eeg_data = subject,\n",
    "#         stim_freqs = stimulus_freqs,\n",
    "#         eeg_channels = eeg_channels, \n",
    "#         srate = srate,\n",
    "#         labels = events_np,\n",
    "#         )\n",
    "    \n",
    "#     rg_accuracies[s] = accuracy_score(events_np, rg_predictions)\n",
    "\n",
    "# # Store accuracies in dataframe\n",
    "# accuracy_df['RG_logreg'] = rg_accuracies"
   ]
  },
  {
   "cell_type": "raw",
   "metadata": {},
   "source": [
    "## Testing code, might have to be removed\n",
    "# rg_accuracies = np.zeros(nsubjects)\n",
    "# for [s, subject] in enumerate(epochs_np):\n",
    "#     rg_predictions = classification.rg_logreg(\n",
    "#         eeg_data = subject,\n",
    "#         labels = events_np,\n",
    "#         )\n",
    "    \n",
    "#     rg_accuracies[s] = accuracy_score(events_np, rg_predictions)"
   ]
  },
  {
   "cell_type": "markdown",
   "metadata": {},
   "source": [
    "## Visualization"
   ]
  },
  {
   "cell_type": "raw",
   "metadata": {},
   "source": [
    "classifiers = ['fbCCA', 'MSI', 'MEC', 'RG_logreg']\n",
    "\n",
    "# stimulus_accuracy = accuracy_df[accuracy_df[\"Stimulus\"]==stimulus]\n",
    "\n",
    "fig, ax = plt.subplots(facecolor=\"white\", figsize=[8, 4])\n",
    "sns.stripplot(\n",
    "    data=accuracy_df,\n",
    "    ax=ax,\n",
    "    jitter=True,\n",
    "    alpha=0.5,\n",
    "    zorder=1,\n",
    "    palette=\"Set1\",\n",
    ")\n",
    "sns.pointplot(data=accuracy_df, ax=ax, palette=\"Set1\")\n",
    "ax.set_ylabel(\"Accuracy\")\n",
    "ax.set_ylim(0, 1.1)\n",
    "plt.show()"
   ]
  },
  {
   "cell_type": "markdown",
   "metadata": {},
   "source": [
    "### Boxplot"
   ]
  },
  {
   "cell_type": "raw",
   "metadata": {},
   "source": [
    "classifiers = [\"fbCCA\", \"MSI\", \"MEC\", \"RG_logreg\"]\n",
    "# accuracy_df[classifiers[0]] = accuracy_rg[\"score\"]"
   ]
  },
  {
   "cell_type": "raw",
   "metadata": {},
   "source": [
    "# Create a 2x2 subplot grid\n",
    "fig, ax = plt.subplots()\n",
    "\n",
    "sns.boxplot(\n",
    "    data = accuracy_df[classifiers],\n",
    "    ax = ax,\n",
    "    color = \"black\",\n",
    "    boxprops=dict(facecolor='none'),\n",
    "    # fill = False,\n",
    "    width = 0.5,\n",
    "    linewidth = 1   \n",
    ")\n",
    "\n",
    "sns.stripplot(\n",
    "    data = accuracy_df[classifiers],\n",
    "    ax = ax,\n",
    "    jitter = 0.15,\n",
    "    alpha = 0.9,\n",
    "    zorder = 1,\n",
    "    palette = \"Set1\",\n",
    ")\n",
    "\n",
    "ax.set_ylim(-0.05, 1.05) \n",
    "\n",
    "ax.set_ylabel(\"Accuracy\")\n",
    "# ax.set_xlabel(\"Classifier\")\n",
    "\n",
    "# Adjust the spacing between subplots\n",
    "plt.tight_layout()\n",
    "\n",
    "# Show the plot\n",
    "plt.show()\n",
    "\n",
    "# Save the plot\n",
    "fig.savefig(\"figures\\\\moabb_boxplot_comparison.svg\")\n",
    "\n"
   ]
  },
  {
   "cell_type": "markdown",
   "metadata": {},
   "source": [
    "## Save results\n"
   ]
  },
  {
   "cell_type": "raw",
   "metadata": {},
   "source": [
    "save_results = True\n",
    "\n",
    "if save_results:\n",
    "    accuracy_df.to_csv(\"results_ncan_moabb.csv\")"
   ]
  }
 ],
 "metadata": {
  "kernelspec": {
   "display_name": "Python 3 (ipykernel)",
   "language": "python",
   "name": "python3"
  },
  "language_info": {
   "codemirror_mode": {
    "name": "ipython",
    "version": 3
   },
   "file_extension": ".py",
   "mimetype": "text/x-python",
   "name": "python",
   "nbconvert_exporter": "python",
   "pygments_lexer": "ipython3",
   "version": "3.10.15"
  }
 },
 "nbformat": 4,
 "nbformat_minor": 4
}
