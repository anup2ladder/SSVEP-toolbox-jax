{
 "cells": [
  {
   "cell_type": "code",
   "execution_count": 25,
   "metadata": {},
   "outputs": [],
   "source": [
    "import mlx.core as mx"
   ]
  },
  {
   "cell_type": "code",
   "execution_count": 26,
   "metadata": {},
   "outputs": [],
   "source": [
    "\n",
    "def set_mlx_device(use_gpu=False):\n",
    "    \"\"\"\n",
    "    Determine the device to use for computations based on user preference.\n",
    "\n",
    "    Parameters:\n",
    "        use_gpu (bool): Whether to attempt using a GPU (CUDA, MPS, ROCm).\n",
    "\n",
    "    Returns:\n",
    "        torch.device: The selected computation device.\n",
    "    \"\"\"\n",
    "    if use_gpu:\n",
    "        mx.set_default_device(mx.gpu)\n",
    "    else:\n",
    "        mx.set_default_device(mx.cpu)\n",
    "\n",
    "    print(f\"Using MLX device: {mx.default_device()}\")"
   ]
  },
  {
   "cell_type": "code",
   "execution_count": 27,
   "metadata": {},
   "outputs": [
    {
     "name": "stdout",
     "output_type": "stream",
     "text": [
      "Using MLX device: Device(gpu, 0)\n"
     ]
    }
   ],
   "source": [
    "# Select the computation device\n",
    "set_mlx_device(use_gpu=True)"
   ]
  },
  {
   "cell_type": "code",
   "execution_count": 30,
   "metadata": {},
   "outputs": [],
   "source": [
    "A = mx.random.normal()"
   ]
  },
  {
   "cell_type": "code",
   "execution_count": 31,
   "metadata": {},
   "outputs": [
    {
     "data": {
      "text/plain": [
       "array(0.253527, dtype=float32)"
      ]
     },
     "execution_count": 31,
     "metadata": {},
     "output_type": "execute_result"
    }
   ],
   "source": [
    "A"
   ]
  },
  {
   "cell_type": "code",
   "execution_count": 9,
   "metadata": {},
   "outputs": [
    {
     "name": "stdout",
     "output_type": "stream",
     "text": [
      "Metal Performance Shaders (MPS) available. Using Metal backend.\n",
      "Using device: mps\n",
      "Matrix generated successfully.\n",
      "An error occurred during computation: The operator 'aten::linalg_qr.out' is not currently implemented for the MPS device. If you want this op to be added in priority during the prototype phase of this feature, please comment on https://github.com/pytorch/pytorch/issues/77764. As a temporary fix, you can set the environment variable `PYTORCH_ENABLE_MPS_FALLBACK=1` to use the CPU as a fallback for this op. WARNING: this will be slower than running natively on MPS.\n",
      "Retrying on CPU...\n",
      "QR decomposition successful on CPU.\n"
     ]
    }
   ],
   "source": [
    "\n",
    "use_gpu = True\n",
    "device = get_device(use_gpu=use_gpu)\n",
    "print(f\"Using device: {device}\")\n",
    "\n",
    "# Create a random matrix on the selected device\n",
    "try:\n",
    "    A = torch.randn(1000, 500, device=device)  # Generate random tensor\n",
    "    print(\"Matrix generated successfully.\")\n",
    "\n",
    "    # Perform QR decomposition\n",
    "    Q, R = torch.linalg.qr(A)\n",
    "    print(\"QR decomposition successful.\")\n",
    "except RuntimeError as e:\n",
    "    print(f\"An error occurred during computation: {e}\")\n",
    "\n",
    "    # Fallback to CPU if GPU computation fails\n",
    "    if device != torch.device(\"cpu\"):\n",
    "        print(\"Retrying on CPU...\")\n",
    "        A = A.to(\"cpu\")  # Move data to CPU\n",
    "        Q, R = torch.linalg.qr(A)\n",
    "        print(\"QR decomposition successful on CPU.\")"
   ]
  },
  {
   "cell_type": "code",
   "execution_count": null,
   "metadata": {},
   "outputs": [],
   "source": [
    "\n",
    "def main(use_gpu=False):\n",
    "    # Select the computation device\n",
    "    device = get_device(use_gpu=use_gpu)\n",
    "    print(f\"Using device: {device}\")\n",
    "\n",
    "    # Create a random matrix on the selected device\n",
    "    try:\n",
    "        A = torch.randn(1000, 500, device=device)  # Generate random tensor\n",
    "        print(\"Matrix generated successfully.\")\n",
    "\n",
    "        # Perform QR decomposition\n",
    "        Q, R = torch.qr(A)\n",
    "        print(\"QR decomposition successful.\")\n",
    "    except RuntimeError as e:\n",
    "        print(f\"An error occurred during computation: {e}\")\n",
    "\n",
    "        # Fallback to CPU if GPU computation fails\n",
    "        if device != torch.device(\"cpu\"):\n",
    "            print(\"Retrying on CPU...\")\n",
    "            A = A.to(\"cpu\")  # Move data to CPU\n",
    "            Q, R = torch.qr(A)\n",
    "            print(\"QR decomposition successful on CPU.\")\n",
    "\n",
    "if __name__ == \"__main__\":\n",
    "    # Pass `use_gpu=True` to prioritize GPUs, or keep it False for CPU.\n",
    "    main(use_gpu=True)"
   ]
  }
 ],
 "metadata": {
  "kernelspec": {
   "display_name": "Python 3 (ipykernel)",
   "language": "python",
   "name": "python3"
  },
  "language_info": {
   "codemirror_mode": {
    "name": "ipython",
    "version": 3
   },
   "file_extension": ".py",
   "mimetype": "text/x-python",
   "name": "python",
   "nbconvert_exporter": "python",
   "pygments_lexer": "ipython3",
   "version": "3.10.15"
  }
 },
 "nbformat": 4,
 "nbformat_minor": 4
}
