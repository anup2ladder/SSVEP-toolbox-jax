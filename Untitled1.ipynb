{
 "cells": [
  {
   "cell_type": "code",
   "execution_count": 3,
   "id": "7e4fc3cc-4360-4bb2-8f31-13e30bea3c1f",
   "metadata": {},
   "outputs": [],
   "source": [
    "import numpy as np"
   ]
  },
  {
   "cell_type": "code",
   "execution_count": 1,
   "id": "f9e742c6-971f-4d7b-8900-bcb0c23f31f9",
   "metadata": {},
   "outputs": [],
   "source": [
    "import mlx.core as mx"
   ]
  },
  {
   "cell_type": "code",
   "execution_count": 2,
   "id": "4702438d-2f0c-4713-89df-6d01674a2dd7",
   "metadata": {},
   "outputs": [],
   "source": [
    "A = mx.random.normal()"
   ]
  },
  {
   "cell_type": "code",
   "execution_count": 5,
   "id": "6247b56d-bb66-4e87-b1ac-f1e6b33e1e3d",
   "metadata": {},
   "outputs": [],
   "source": [
    "B = np.random.randn(1000, 500)"
   ]
  },
  {
   "cell_type": "code",
   "execution_count": 7,
   "id": "5ea36640-b0d3-4ed9-b24f-1e710055676c",
   "metadata": {},
   "outputs": [
    {
     "data": {
      "text/plain": [
       "(1000, 500)"
      ]
     },
     "execution_count": 7,
     "metadata": {},
     "output_type": "execute_result"
    }
   ],
   "source": [
    "B.shape"
   ]
  },
  {
   "cell_type": "code",
   "execution_count": 12,
   "id": "4ba1b845-18b8-41df-808b-4bb2cbc8bba3",
   "metadata": {},
   "outputs": [],
   "source": [
    "A = mx.random.normal((1000,1000))"
   ]
  },
  {
   "cell_type": "code",
   "execution_count": 13,
   "id": "51667887-ab9f-47fb-9116-39d39fb24384",
   "metadata": {},
   "outputs": [
    {
     "data": {
      "text/plain": [
       "(1000, 1000)"
      ]
     },
     "execution_count": 13,
     "metadata": {},
     "output_type": "execute_result"
    }
   ],
   "source": [
    "A.shape"
   ]
  },
  {
   "cell_type": "code",
   "execution_count": 14,
   "id": "0973ca83-7522-4a66-9115-adc6ba481a72",
   "metadata": {},
   "outputs": [],
   "source": [
    "Q, R = mx.linalg.qr(A)"
   ]
  },
  {
   "cell_type": "code",
   "execution_count": null,
   "id": "4d72df26-bc0d-4c59-bd34-c53f24a14453",
   "metadata": {},
   "outputs": [],
   "source": [
    "Q"
   ]
  },
  {
   "cell_type": "code",
   "execution_count": null,
   "id": "88885513-f84a-4172-9c40-d32c110a4e65",
   "metadata": {},
   "outputs": [],
   "source": []
  }
 ],
 "metadata": {
  "kernelspec": {
   "display_name": "Python 3 (ipykernel)",
   "language": "python",
   "name": "python3"
  },
  "language_info": {
   "codemirror_mode": {
    "name": "ipython",
    "version": 3
   },
   "file_extension": ".py",
   "mimetype": "text/x-python",
   "name": "python",
   "nbconvert_exporter": "python",
   "pygments_lexer": "ipython3",
   "version": "3.10.15"
  }
 },
 "nbformat": 4,
 "nbformat_minor": 5
}
