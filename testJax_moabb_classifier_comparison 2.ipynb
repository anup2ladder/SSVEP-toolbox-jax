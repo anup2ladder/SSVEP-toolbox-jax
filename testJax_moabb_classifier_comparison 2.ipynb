{
 "cells": [
  {
   "cell_type": "markdown",
   "metadata": {},
   "source": [
    "# MOABB Classifier comparison\n",
    "\n",
    "This notebook takes multiple files and does the following pipeline:\n",
    "1) Import data and pre-process\n",
    "2) For each stimulus type \n",
    "    1) Run classifiers (i.e., CCA, MEC, MSI, and RG)\n",
    "    2) Store accuracy values\n",
    "\n",
    "A final plot for each stimulus type is plotted "
   ]
  },
  {
   "cell_type": "code",
   "execution_count": 1,
   "metadata": {},
   "outputs": [],
   "source": [
    "# Default libraries\n",
    "import re\n",
    "import mne\n",
    "import numpy as np\n",
    "import pandas as pd\n",
    "import seaborn as sns\n",
    "import matplotlib.pyplot as plt\n",
    "\n",
    "from sklearn.metrics import accuracy_score\n",
    "from sklearn.pipeline import make_pipeline\n",
    "\n",
    "from pyriemann.estimation import Covariances\n",
    "from pyriemann.tangentspace import TangentSpace\n",
    "\n",
    "from moabb.datasets import Wang2016, SSVEPExo\n",
    "from moabb.paradigms import FilterBankSSVEP, SSVEP\n",
    "from moabb.pipelines import ExtendedSSVEPSignal\n",
    "from sklearn.linear_model import LogisticRegression\n",
    "from moabb.evaluations import CrossSubjectEvaluation"
   ]
  },
  {
   "cell_type": "code",
   "execution_count": 2,
   "metadata": {},
   "outputs": [],
   "source": [
    "# Import custom libraries\n",
    "from ncantest import data_tools\n",
    "from ncantest import processing\n",
    "from ncantest import classification"
   ]
  },
  {
   "cell_type": "code",
   "execution_count": 3,
   "metadata": {},
   "outputs": [],
   "source": [
    "from FeatureExtractorSSVEP import FeatureExtractorCCA as CCA\n",
    "from FeatureExtractorSSVEP import FeatureExtractorMSI as MSI\n",
    "from FeatureExtractorSSVEP import FeatureExtractorMEC as MEC\n",
    "\n",
    "# Magic command to reload libraries\n",
    "%reload_ext autoreload"
   ]
  },
  {
   "cell_type": "markdown",
   "metadata": {},
   "source": [
    "## Settings\n",
    "\n",
    "Note that if the `Wang2016` is not already downloaded, it'll be downloaded the first time you run this section of the code."
   ]
  },
  {
   "cell_type": "code",
   "execution_count": 4,
   "metadata": {},
   "outputs": [],
   "source": [
    "mne.set_config(\"MNE_DATA\", \"~/.mne\")"
   ]
  },
  {
   "cell_type": "code",
   "execution_count": 5,
   "metadata": {},
   "outputs": [
    {
     "data": {
      "text/plain": [
       "'~/.mne'"
      ]
     },
     "execution_count": 5,
     "metadata": {},
     "output_type": "execute_result"
    }
   ],
   "source": [
    "mne.get_config(\"MNE_DATA\")"
   ]
  },
  {
   "cell_type": "code",
   "execution_count": 6,
   "metadata": {},
   "outputs": [],
   "source": [
    "# Import and epoch data\n",
    "dataset = Wang2016()\n",
    "# dataset.subject_list = dataset.subject_list[:2]"
   ]
  },
  {
   "cell_type": "code",
   "execution_count": 7,
   "metadata": {},
   "outputs": [
    {
     "name": "stderr",
     "output_type": "stream",
     "text": [
      "Trial data de-meaned and concatenated with a buffer to create continuous data\n",
      "Trial data de-meaned and concatenated with a buffer to create continuous data\n",
      "Trial data de-meaned and concatenated with a buffer to create continuous data\n",
      "Trial data de-meaned and concatenated with a buffer to create continuous data\n",
      "Trial data de-meaned and concatenated with a buffer to create continuous data\n",
      "Trial data de-meaned and concatenated with a buffer to create continuous data\n",
      "Trial data de-meaned and concatenated with a buffer to create continuous data\n",
      "Trial data de-meaned and concatenated with a buffer to create continuous data\n",
      "Trial data de-meaned and concatenated with a buffer to create continuous data\n",
      "Trial data de-meaned and concatenated with a buffer to create continuous data\n",
      "Trial data de-meaned and concatenated with a buffer to create continuous data\n",
      "Trial data de-meaned and concatenated with a buffer to create continuous data\n",
      "Trial data de-meaned and concatenated with a buffer to create continuous data\n",
      "Trial data de-meaned and concatenated with a buffer to create continuous data\n",
      "Trial data de-meaned and concatenated with a buffer to create continuous data\n",
      "Trial data de-meaned and concatenated with a buffer to create continuous data\n",
      "Trial data de-meaned and concatenated with a buffer to create continuous data\n",
      "Trial data de-meaned and concatenated with a buffer to create continuous data\n",
      "Trial data de-meaned and concatenated with a buffer to create continuous data\n",
      "Trial data de-meaned and concatenated with a buffer to create continuous data\n",
      "Trial data de-meaned and concatenated with a buffer to create continuous data\n",
      "Trial data de-meaned and concatenated with a buffer to create continuous data\n",
      "Trial data de-meaned and concatenated with a buffer to create continuous data\n",
      "Trial data de-meaned and concatenated with a buffer to create continuous data\n",
      "Trial data de-meaned and concatenated with a buffer to create continuous data\n",
      "Trial data de-meaned and concatenated with a buffer to create continuous data\n",
      "Trial data de-meaned and concatenated with a buffer to create continuous data\n",
      "Trial data de-meaned and concatenated with a buffer to create continuous data\n",
      "Trial data de-meaned and concatenated with a buffer to create continuous data\n",
      "Trial data de-meaned and concatenated with a buffer to create continuous data\n",
      "Trial data de-meaned and concatenated with a buffer to create continuous data\n",
      "Trial data de-meaned and concatenated with a buffer to create continuous data\n",
      "Trial data de-meaned and concatenated with a buffer to create continuous data\n",
      "Trial data de-meaned and concatenated with a buffer to create continuous data\n"
     ]
    }
   ],
   "source": [
    "data = dataset.get_data()"
   ]
  },
  {
   "cell_type": "code",
   "execution_count": 8,
   "metadata": {},
   "outputs": [],
   "source": [
    "eeg_channels = [\"O1\",\"Oz\",\"O2\"]\n",
    "\n",
    "# Information from dataset description\n",
    "nsubjects = len(data)\n",
    "# labels_dict = {\"13\":0, \"17\":2, \"21\":1}  # The order is changed because the labels in the dataset are incorrect\n",
    "# stimulus_freqs = [int(f) for f in labels_dict.keys()]\n",
    "\n",
    "stimulus_freqs = [float(freq) for freq in dataset.event_id.keys()]  # Stimulus frequencies [Hz]\n",
    "srate = data[1][\"0\"][\"0\"].info['sfreq'] # Sampling rate [Hz]\n",
    "tmin = 0.5  # Time of start of SSVEP stimulus [sec]\n",
    "tmax = 5.5  # Time of end of SSVEP stimulus [sec]\n",
    "\n",
    "# Classifier settings\n",
    "# - Create CCA subbands like in Chen et al. (2015) paper\n",
    "first_column = np.arange(1, 11) * 8\n",
    "second_column = np.full(10, 88)\n",
    "cca_subbands = np.column_stack((first_column, second_column))\n",
    "harmonic_count = 2\n",
    "classifiers = [\"fbCCA\", \"MSI\", \"MEC\", \"RG_logreg\"]\n",
    "\n",
    "# Create an empty dataframe to store the accuracies\n",
    "accuracy_df = pd.DataFrame(\n",
    "    index = np.arange(0, nsubjects),\n",
    "    columns = classifiers\n",
    "    )\n",
    "accuracy_df.index.name = \"Subject\""
   ]
  },
  {
   "cell_type": "markdown",
   "metadata": {},
   "source": [
    "## Separate epochs\n",
    "\n",
    "From the raw recording datasets, create the EEG epochs using just the periods where the SSVEP stimulus was active."
   ]
  },
  {
   "cell_type": "code",
   "execution_count": 9,
   "metadata": {},
   "outputs": [],
   "source": [
    "# Preallocate data\n",
    "epochs_list = [None] * len(data)\n",
    "events_list = [None] * len(data)\n",
    "\n",
    "# Obtain epochs and events\n",
    "for s, subject in data.items():\n",
    "    [events_list[s-1], epochs_list[s-1]] = data_tools.moabb_events_to_np(\n",
    "        mne_raw = subject[\"0\"][\"0\"],\n",
    "        tmin = tmin,\n",
    "        tmax = tmax,\n",
    "        events_dict = dataset.event_id,\n",
    "        chans = eeg_channels\n",
    "        )\n",
    "    \n",
    "# Convert lists to np.ndarrays\n",
    "# eeg_channels = data[1][\"0\"][\"0\"].ch_names\n",
    "epochs_np = np.float32(np.array(epochs_list))\n",
    "events_np = np.array(events_list[0][:,2]) - 1   # The `-1` is to make the labels start at 0"
   ]
  },
  {
   "cell_type": "markdown",
   "metadata": {},
   "source": [
    "## Classifiers\n",
    "\n",
    "### Riemmanian geometry + logistic regression"
   ]
  },
  {
   "cell_type": "raw",
   "metadata": {},
   "source": [
    "paradigm_fb = FilterBankSSVEP(\n",
    "    filters = None,\n",
    "    n_classes = 10,\n",
    "    tmin = tmin,\n",
    "    tmax = tmax,\n",
    "    channels = eeg_channels,\n",
    ")\n",
    "\n",
    "# paradigm = SSVEP(\n",
    "#     fmin = 6,\n",
    "#     fmax = 90,\n",
    "#     n_classes = 5,\n",
    "#     tmin = tmin,\n",
    "#     tmax = tmax,\n",
    "# )\n",
    "\n",
    "pipeline_rg = {}\n",
    "pipeline_rg[\"RG+LogReg\"] = make_pipeline(\n",
    "    ExtendedSSVEPSignal(),\n",
    "    Covariances(estimator=\"lwf\"),\n",
    "    TangentSpace(),\n",
    "    LogisticRegression(solver=\"lbfgs\", multi_class=\"auto\"),\n",
    ")\n",
    "\n",
    "evaluation_rg = CrossSubjectEvaluation(\n",
    "    paradigm = paradigm_fb,\n",
    "    datasets = dataset,\n",
    "    overwrite = False\n",
    ")\n",
    "\n",
    "accuracy_rg = evaluation_rg.process(pipeline_rg)\n"
   ]
  },
  {
   "cell_type": "raw",
   "metadata": {},
   "source": [
    "accuracy_df[\"RG_logreg\"] = accuracy_rg[\"score\"]"
   ]
  },
  {
   "cell_type": "raw",
   "metadata": {},
   "source": [
    "## Testing code, might have to be removed\n",
    "# Preallocate data\n",
    "# rg_accuracies = np.zeros(nsubjects)\n",
    "\n",
    "# # Classify all epochs per subject\n",
    "# for s, subject in enumerate(epochs_np):\n",
    "#     rg_predictions = classification.fb_rg_logreg(\n",
    "#         eeg_data = subject,\n",
    "#         stim_freqs = stimulus_freqs,\n",
    "#         eeg_channels = eeg_channels, \n",
    "#         srate = srate,\n",
    "#         labels = events_np,\n",
    "#         )\n",
    "    \n",
    "#     rg_accuracies[s] = accuracy_score(events_np, rg_predictions)\n",
    "\n",
    "# # Store accuracies in dataframe\n",
    "# accuracy_df['RG_logreg'] = rg_accuracies"
   ]
  },
  {
   "cell_type": "raw",
   "metadata": {},
   "source": [
    "## Testing code, might have to be removed\n",
    "# rg_accuracies = np.zeros(nsubjects)\n",
    "# for [s, subject] in enumerate(epochs_np):\n",
    "#     rg_predictions = classification.rg_logreg(\n",
    "#         eeg_data = subject,\n",
    "#         labels = events_np,\n",
    "#         )\n",
    "    \n",
    "#     rg_accuracies[s] = accuracy_score(events_np, rg_predictions)"
   ]
  },
  {
   "cell_type": "markdown",
   "metadata": {},
   "source": [
    "### fbCCA"
   ]
  },
  {
   "cell_type": "code",
   "execution_count": 10,
   "metadata": {},
   "outputs": [
    {
     "name": "stderr",
     "output_type": "stream",
     "text": [
      "Platform 'METAL' is experimental and not all JAX functionality may be correctly supported!\n",
      "WARNING: All log messages before absl::InitializeLog() is called are written to STDERR\n",
      "W0000 00:00:1732135508.291316 1558247 mps_client.cc:510] WARNING: JAX Apple GPU support is experimental and not all JAX functionality is correctly supported!\n",
      "I0000 00:00:1732135508.299754 1558247 service.cc:145] XLA service 0x6000012e0d00 initialized for platform METAL (this does not guarantee that XLA will be used). Devices:\n",
      "I0000 00:00:1732135508.299762 1558247 service.cc:153]   StreamExecutor device (0): Metal, <undefined>\n",
      "I0000 00:00:1732135508.300907 1558247 mps_client.cc:406] Using Simple allocator.\n",
      "I0000 00:00:1732135508.300914 1558247 mps_client.cc:384] XLA backend will use up to 77309018112 bytes on device 0 for SimpleAllocator.\n"
     ]
    },
    {
     "name": "stdout",
     "output_type": "stream",
     "text": [
      "Metal device set to: Apple M2 Max\n"
     ]
    },
    {
     "ename": "IndexError",
     "evalue": "tuple index out of range",
     "output_type": "error",
     "traceback": [
      "\u001b[0;31m---------------------------------------------------------------------------\u001b[0m",
      "\u001b[0;31mIndexError\u001b[0m                                Traceback (most recent call last)",
      "\u001b[0;32m/var/folders/5b/t618zsqn799bvw97t8qmvj900000gn/T/ipykernel_9368/360844769.py\u001b[0m in \u001b[0;36m?\u001b[0;34m()\u001b[0m\n\u001b[1;32m     14\u001b[0m \u001b[0;34m\u001b[0m\u001b[0m\n\u001b[1;32m     15\u001b[0m \u001b[0;31m# Classify all epochs per subject\u001b[0m\u001b[0;34m\u001b[0m\u001b[0;34m\u001b[0m\u001b[0m\n\u001b[1;32m     16\u001b[0m \u001b[0;32mfor\u001b[0m \u001b[0ms\u001b[0m\u001b[0;34m,\u001b[0m \u001b[0msubject\u001b[0m \u001b[0;32min\u001b[0m \u001b[0menumerate\u001b[0m\u001b[0;34m(\u001b[0m\u001b[0mepochs_np\u001b[0m\u001b[0;34m)\u001b[0m\u001b[0;34m:\u001b[0m\u001b[0;34m\u001b[0m\u001b[0;34m\u001b[0m\u001b[0m\n\u001b[1;32m     17\u001b[0m     \u001b[0mcca_features\u001b[0m \u001b[0;34m=\u001b[0m \u001b[0mcca\u001b[0m\u001b[0;34m.\u001b[0m\u001b[0mextract_features\u001b[0m\u001b[0;34m(\u001b[0m\u001b[0msubject\u001b[0m\u001b[0;34m)\u001b[0m\u001b[0;34m\u001b[0m\u001b[0;34m\u001b[0m\u001b[0m\n\u001b[0;32m---> 18\u001b[0;31m     \u001b[0mcca_predictions\u001b[0m \u001b[0;34m=\u001b[0m \u001b[0mnp\u001b[0m\u001b[0;34m.\u001b[0m\u001b[0margmax\u001b[0m\u001b[0;34m(\u001b[0m\u001b[0mnp\u001b[0m\u001b[0;34m.\u001b[0m\u001b[0mmax\u001b[0m\u001b[0;34m(\u001b[0m\u001b[0mnp\u001b[0m\u001b[0;34m.\u001b[0m\u001b[0msqueeze\u001b[0m\u001b[0;34m(\u001b[0m\u001b[0mcca_features\u001b[0m\u001b[0;34m)\u001b[0m\u001b[0;34m,\u001b[0m \u001b[0maxis\u001b[0m\u001b[0;34m=\u001b[0m\u001b[0;36m1\u001b[0m\u001b[0;34m)\u001b[0m\u001b[0;34m,\u001b[0m \u001b[0maxis\u001b[0m\u001b[0;34m=\u001b[0m\u001b[0;36m1\u001b[0m\u001b[0;34m)\u001b[0m\u001b[0;34m\u001b[0m\u001b[0;34m\u001b[0m\u001b[0m\n\u001b[0m\u001b[1;32m     19\u001b[0m     \u001b[0mcca_accuracies\u001b[0m\u001b[0;34m[\u001b[0m\u001b[0ms\u001b[0m\u001b[0;34m]\u001b[0m \u001b[0;34m=\u001b[0m \u001b[0maccuracy_score\u001b[0m\u001b[0;34m(\u001b[0m\u001b[0mevents_np\u001b[0m\u001b[0;34m,\u001b[0m \u001b[0mcca_predictions\u001b[0m\u001b[0;34m)\u001b[0m\u001b[0;34m\u001b[0m\u001b[0;34m\u001b[0m\u001b[0m\n",
      "\u001b[0;32m~/Applications/miniforge3/envs/test-ssvep-jax/lib/python3.10/site-packages/numpy/core/fromnumeric.py\u001b[0m in \u001b[0;36m?\u001b[0;34m(a, axis, out, keepdims)\u001b[0m\n\u001b[1;32m   1225\u001b[0m     \u001b[0;34m>>\u001b[0m\u001b[0;34m>\u001b[0m \u001b[0mres\u001b[0m\u001b[0;34m.\u001b[0m\u001b[0mshape\u001b[0m\u001b[0;34m\u001b[0m\u001b[0;34m\u001b[0m\u001b[0m\n\u001b[1;32m   1226\u001b[0m     \u001b[0;34m(\u001b[0m\u001b[0;36m2\u001b[0m\u001b[0;34m,\u001b[0m \u001b[0;36m1\u001b[0m\u001b[0;34m,\u001b[0m \u001b[0;36m4\u001b[0m\u001b[0;34m)\u001b[0m\u001b[0;34m\u001b[0m\u001b[0;34m\u001b[0m\u001b[0m\n\u001b[1;32m   1227\u001b[0m     \"\"\"\n\u001b[1;32m   1228\u001b[0m     \u001b[0mkwds\u001b[0m \u001b[0;34m=\u001b[0m \u001b[0;34m{\u001b[0m\u001b[0;34m'keepdims'\u001b[0m\u001b[0;34m:\u001b[0m \u001b[0mkeepdims\u001b[0m\u001b[0;34m}\u001b[0m \u001b[0;32mif\u001b[0m \u001b[0mkeepdims\u001b[0m \u001b[0;32mis\u001b[0m \u001b[0;32mnot\u001b[0m \u001b[0mnp\u001b[0m\u001b[0;34m.\u001b[0m\u001b[0m_NoValue\u001b[0m \u001b[0;32melse\u001b[0m \u001b[0;34m{\u001b[0m\u001b[0;34m}\u001b[0m\u001b[0;34m\u001b[0m\u001b[0;34m\u001b[0m\u001b[0m\n\u001b[0;32m-> 1229\u001b[0;31m     \u001b[0;32mreturn\u001b[0m \u001b[0m_wrapfunc\u001b[0m\u001b[0;34m(\u001b[0m\u001b[0ma\u001b[0m\u001b[0;34m,\u001b[0m \u001b[0;34m'argmax'\u001b[0m\u001b[0;34m,\u001b[0m \u001b[0maxis\u001b[0m\u001b[0;34m=\u001b[0m\u001b[0maxis\u001b[0m\u001b[0;34m,\u001b[0m \u001b[0mout\u001b[0m\u001b[0;34m=\u001b[0m\u001b[0mout\u001b[0m\u001b[0;34m,\u001b[0m \u001b[0;34m**\u001b[0m\u001b[0mkwds\u001b[0m\u001b[0;34m)\u001b[0m\u001b[0;34m\u001b[0m\u001b[0;34m\u001b[0m\u001b[0m\n\u001b[0m",
      "\u001b[0;32m~/Applications/miniforge3/envs/test-ssvep-jax/lib/python3.10/site-packages/numpy/core/fromnumeric.py\u001b[0m in \u001b[0;36m?\u001b[0;34m(obj, method, *args, **kwds)\u001b[0m\n\u001b[1;32m     56\u001b[0m         \u001b[0;32mreturn\u001b[0m \u001b[0m_wrapit\u001b[0m\u001b[0;34m(\u001b[0m\u001b[0mobj\u001b[0m\u001b[0;34m,\u001b[0m \u001b[0mmethod\u001b[0m\u001b[0;34m,\u001b[0m \u001b[0;34m*\u001b[0m\u001b[0margs\u001b[0m\u001b[0;34m,\u001b[0m \u001b[0;34m**\u001b[0m\u001b[0mkwds\u001b[0m\u001b[0;34m)\u001b[0m\u001b[0;34m\u001b[0m\u001b[0;34m\u001b[0m\u001b[0m\n\u001b[1;32m     57\u001b[0m \u001b[0;34m\u001b[0m\u001b[0m\n\u001b[1;32m     58\u001b[0m     \u001b[0;32mtry\u001b[0m\u001b[0;34m:\u001b[0m\u001b[0;34m\u001b[0m\u001b[0;34m\u001b[0m\u001b[0m\n\u001b[1;32m     59\u001b[0m         \u001b[0;32mreturn\u001b[0m \u001b[0mbound\u001b[0m\u001b[0;34m(\u001b[0m\u001b[0;34m*\u001b[0m\u001b[0margs\u001b[0m\u001b[0;34m,\u001b[0m \u001b[0;34m**\u001b[0m\u001b[0mkwds\u001b[0m\u001b[0;34m)\u001b[0m\u001b[0;34m\u001b[0m\u001b[0;34m\u001b[0m\u001b[0m\n\u001b[0;32m---> 60\u001b[0;31m     \u001b[0;32mexcept\u001b[0m \u001b[0mTypeError\u001b[0m\u001b[0;34m:\u001b[0m\u001b[0;34m\u001b[0m\u001b[0;34m\u001b[0m\u001b[0m\n\u001b[0m\u001b[1;32m     61\u001b[0m         \u001b[0;31m# A TypeError occurs if the object does have such a method in its\u001b[0m\u001b[0;34m\u001b[0m\u001b[0;34m\u001b[0m\u001b[0m\n\u001b[1;32m     62\u001b[0m         \u001b[0;31m# class, but its signature is not identical to that of NumPy's. This\u001b[0m\u001b[0;34m\u001b[0m\u001b[0;34m\u001b[0m\u001b[0m\n\u001b[1;32m     63\u001b[0m         \u001b[0;31m# situation has occurred in the case of a downstream library like\u001b[0m\u001b[0;34m\u001b[0m\u001b[0;34m\u001b[0m\u001b[0m\n",
      "\u001b[0;32m~/Applications/miniforge3/envs/test-ssvep-jax/lib/python3.10/site-packages/jax/_src/numpy/array_methods.py\u001b[0m in \u001b[0;36m?\u001b[0;34m(self, axis, out, keepdims)\u001b[0m\n\u001b[1;32m     79\u001b[0m   \"\"\"Return the index of the maximum value.\n\u001b[1;32m     80\u001b[0m \u001b[0;34m\u001b[0m\u001b[0m\n\u001b[1;32m     81\u001b[0m   \u001b[0mRefer\u001b[0m \u001b[0mto\u001b[0m \u001b[0;34m:\u001b[0m\u001b[0mfunc\u001b[0m\u001b[0;34m:\u001b[0m\u001b[0;31m`\u001b[0m\u001b[0mjax\u001b[0m\u001b[0;34m.\u001b[0m\u001b[0mnumpy\u001b[0m\u001b[0;34m.\u001b[0m\u001b[0margmax\u001b[0m\u001b[0;31m`\u001b[0m \u001b[0;32mfor\u001b[0m \u001b[0mthe\u001b[0m \u001b[0mfull\u001b[0m \u001b[0mdocumentation\u001b[0m\u001b[0;34m.\u001b[0m\u001b[0;34m\u001b[0m\u001b[0;34m\u001b[0m\u001b[0m\n\u001b[1;32m     82\u001b[0m   \"\"\"\n\u001b[0;32m---> 83\u001b[0;31m   \u001b[0;32mreturn\u001b[0m \u001b[0mlax_numpy\u001b[0m\u001b[0;34m.\u001b[0m\u001b[0margmax\u001b[0m\u001b[0;34m(\u001b[0m\u001b[0mself\u001b[0m\u001b[0;34m,\u001b[0m \u001b[0maxis\u001b[0m\u001b[0;34m=\u001b[0m\u001b[0maxis\u001b[0m\u001b[0;34m,\u001b[0m \u001b[0mout\u001b[0m\u001b[0;34m=\u001b[0m\u001b[0mout\u001b[0m\u001b[0;34m,\u001b[0m \u001b[0mkeepdims\u001b[0m\u001b[0;34m=\u001b[0m\u001b[0mkeepdims\u001b[0m\u001b[0;34m)\u001b[0m\u001b[0;34m\u001b[0m\u001b[0;34m\u001b[0m\u001b[0m\n\u001b[0m",
      "\u001b[0;32m~/Applications/miniforge3/envs/test-ssvep-jax/lib/python3.10/site-packages/jax/_src/numpy/lax_numpy.py\u001b[0m in \u001b[0;36m?\u001b[0;34m(a, axis, out, keepdims)\u001b[0m\n\u001b[1;32m  10005\u001b[0m   \"\"\"\n\u001b[1;32m  10006\u001b[0m   \u001b[0mutil\u001b[0m\u001b[0;34m.\u001b[0m\u001b[0mcheck_arraylike\u001b[0m\u001b[0;34m(\u001b[0m\u001b[0;34m\"argmax\"\u001b[0m\u001b[0;34m,\u001b[0m \u001b[0ma\u001b[0m\u001b[0;34m)\u001b[0m\u001b[0;34m\u001b[0m\u001b[0;34m\u001b[0m\u001b[0m\n\u001b[1;32m  10007\u001b[0m   \u001b[0;32mif\u001b[0m \u001b[0mout\u001b[0m \u001b[0;32mis\u001b[0m \u001b[0;32mnot\u001b[0m \u001b[0;32mNone\u001b[0m\u001b[0;34m:\u001b[0m\u001b[0;34m\u001b[0m\u001b[0;34m\u001b[0m\u001b[0m\n\u001b[1;32m  10008\u001b[0m     \u001b[0;32mraise\u001b[0m \u001b[0mNotImplementedError\u001b[0m\u001b[0;34m(\u001b[0m\u001b[0;34m\"The 'out' argument to jnp.argmax is not supported.\"\u001b[0m\u001b[0;34m)\u001b[0m\u001b[0;34m\u001b[0m\u001b[0;34m\u001b[0m\u001b[0m\n\u001b[0;32m> 10009\u001b[0;31m   return _argmax(asarray(a), None if axis is None else operator.index(axis),\n\u001b[0m\u001b[1;32m  10010\u001b[0m                  keepdims=bool(keepdims))\n",
      "    \u001b[0;31m[... skipping hidden 11 frame]\u001b[0m\n",
      "\u001b[0;32m~/Applications/miniforge3/envs/test-ssvep-jax/lib/python3.10/site-packages/jax/_src/numpy/lax_numpy.py\u001b[0m in \u001b[0;36m?\u001b[0;34m(a, axis, keepdims)\u001b[0m\n\u001b[1;32m  10016\u001b[0m     \u001b[0ma\u001b[0m \u001b[0;34m=\u001b[0m \u001b[0mravel\u001b[0m\u001b[0;34m(\u001b[0m\u001b[0ma\u001b[0m\u001b[0;34m)\u001b[0m\u001b[0;34m\u001b[0m\u001b[0;34m\u001b[0m\u001b[0m\n\u001b[1;32m  10017\u001b[0m     \u001b[0maxis\u001b[0m \u001b[0;34m=\u001b[0m \u001b[0;36m0\u001b[0m\u001b[0;34m\u001b[0m\u001b[0;34m\u001b[0m\u001b[0m\n\u001b[1;32m  10018\u001b[0m   \u001b[0;32melse\u001b[0m\u001b[0;34m:\u001b[0m\u001b[0;34m\u001b[0m\u001b[0;34m\u001b[0m\u001b[0m\n\u001b[1;32m  10019\u001b[0m     \u001b[0mdims\u001b[0m \u001b[0;34m=\u001b[0m \u001b[0;34m[\u001b[0m\u001b[0maxis\u001b[0m\u001b[0;34m]\u001b[0m\u001b[0;34m\u001b[0m\u001b[0;34m\u001b[0m\u001b[0m\n\u001b[0;32m> 10020\u001b[0;31m   \u001b[0;32mif\u001b[0m \u001b[0ma\u001b[0m\u001b[0;34m.\u001b[0m\u001b[0mshape\u001b[0m\u001b[0;34m[\u001b[0m\u001b[0maxis\u001b[0m\u001b[0;34m]\u001b[0m \u001b[0;34m==\u001b[0m \u001b[0;36m0\u001b[0m\u001b[0;34m:\u001b[0m\u001b[0;34m\u001b[0m\u001b[0;34m\u001b[0m\u001b[0m\n\u001b[0m\u001b[1;32m  10021\u001b[0m     \u001b[0;32mraise\u001b[0m \u001b[0mValueError\u001b[0m\u001b[0;34m(\u001b[0m\u001b[0;34m\"attempt to get argmax of an empty sequence\"\u001b[0m\u001b[0;34m)\u001b[0m\u001b[0;34m\u001b[0m\u001b[0;34m\u001b[0m\u001b[0m\n\u001b[1;32m  10022\u001b[0m   \u001b[0mresult\u001b[0m \u001b[0;34m=\u001b[0m \u001b[0mlax\u001b[0m\u001b[0;34m.\u001b[0m\u001b[0margmax\u001b[0m\u001b[0;34m(\u001b[0m\u001b[0ma\u001b[0m\u001b[0;34m,\u001b[0m \u001b[0m_canonicalize_axis\u001b[0m\u001b[0;34m(\u001b[0m\u001b[0maxis\u001b[0m\u001b[0;34m,\u001b[0m \u001b[0ma\u001b[0m\u001b[0;34m.\u001b[0m\u001b[0mndim\u001b[0m\u001b[0;34m)\u001b[0m\u001b[0;34m,\u001b[0m \u001b[0mdtypes\u001b[0m\u001b[0;34m.\u001b[0m\u001b[0mcanonicalize_dtype\u001b[0m\u001b[0;34m(\u001b[0m\u001b[0mint_\u001b[0m\u001b[0;34m)\u001b[0m\u001b[0;34m)\u001b[0m\u001b[0;34m\u001b[0m\u001b[0;34m\u001b[0m\u001b[0m\n\u001b[1;32m  10023\u001b[0m   \u001b[0;32mreturn\u001b[0m \u001b[0mexpand_dims\u001b[0m\u001b[0;34m(\u001b[0m\u001b[0mresult\u001b[0m\u001b[0;34m,\u001b[0m \u001b[0mdims\u001b[0m\u001b[0;34m)\u001b[0m \u001b[0;32mif\u001b[0m \u001b[0mkeepdims\u001b[0m \u001b[0;32melse\u001b[0m \u001b[0mresult\u001b[0m\u001b[0;34m\u001b[0m\u001b[0;34m\u001b[0m\u001b[0m\n",
      "\u001b[0;31mIndexError\u001b[0m: tuple index out of range"
     ]
    }
   ],
   "source": [
    "# Prototype and preallocate data\n",
    "cca = CCA()\n",
    "cca_accuracies = np.zeros(nsubjects)\n",
    "\n",
    "cca.setup_feature_extractor(\n",
    "    harmonics_count = harmonic_count,\n",
    "    targets_frequencies = stimulus_freqs,\n",
    "    sampling_frequency = srate,\n",
    "    samples_count = epochs_np.shape[-1],\n",
    "    filter_order = 12,\n",
    "    subbands = cca_subbands\n",
    "    )\n",
    "    \n",
    "\n",
    "# Classify all epochs per subject\n",
    "for s, subject in enumerate(epochs_np):\n",
    "    cca_features = cca.extract_features(subject)\n",
    "    cca_predictions = np.argmax(np.max(np.squeeze(cca_features), axis=1), axis=1)\n",
    "    cca_accuracies[s] = accuracy_score(events_np, cca_predictions)\n"
   ]
  },
  {
   "cell_type": "code",
   "execution_count": null,
   "metadata": {},
   "outputs": [],
   "source": [
    "\n",
    "accuracy_df[\"fbCCA\"] = cca_accuracies\n",
    "    "
   ]
  },
  {
   "cell_type": "markdown",
   "metadata": {},
   "source": [
    "### MEC"
   ]
  },
  {
   "cell_type": "raw",
   "metadata": {},
   "source": [
    "# Prototype and preallocate data\n",
    "mec = MEC()\n",
    "mec_accuracies = np.zeros(nsubjects)\n",
    "\n",
    "mec.setup_feature_extractor(\n",
    "    harmonics_count = harmonic_count,\n",
    "    targets_frequencies = stimulus_freqs,\n",
    "    sampling_frequency = srate,\n",
    "    samples_count = epochs_np.shape[-1]\n",
    ")\n",
    "\n",
    "# Classify all epochs per subject\n",
    "for s, subject in enumerate(epochs_np):\n",
    "    mec_features = mec.extract_features(subject)\n",
    "    mec_predictions = np.argmax(np.squeeze(mec_features), axis=1)\n",
    "    mec_accuracies[s] = accuracy_score(events_np, mec_predictions)\n",
    "\n",
    "accuracy_df[\"MEC\"] = mec_accuracies"
   ]
  },
  {
   "cell_type": "markdown",
   "metadata": {},
   "source": [
    "### MSI"
   ]
  },
  {
   "cell_type": "raw",
   "metadata": {},
   "source": [
    "# Prototype and preallocate data\n",
    "msi = MSI()\n",
    "msi_accuracies = np.zeros(nsubjects)\n",
    "\n",
    "msi.setup_feature_extractor(\n",
    "    harmonics_count = harmonic_count,\n",
    "    targets_frequencies = stimulus_freqs,\n",
    "    sampling_frequency = srate,\n",
    "    samples_count = epochs_np.shape[-1]\n",
    ")\n",
    "\n",
    "# Classify all epochs per subject\n",
    "for s, subject in enumerate(epochs_np):\n",
    "    msi_features = msi.extract_features(subject)\n",
    "    msi_predictions = np.argmax(np.squeeze(msi_features), axis=1)\n",
    "    msi_accuracies[s] = accuracy_score(events_np, msi_predictions)\n",
    "\n",
    "accuracy_df[\"MSI\"] = msi_accuracies"
   ]
  },
  {
   "cell_type": "markdown",
   "metadata": {},
   "source": [
    "## Visualization"
   ]
  },
  {
   "cell_type": "raw",
   "metadata": {},
   "source": [
    "classifiers = ['fbCCA', 'MSI', 'MEC', 'RG_logreg']\n",
    "\n",
    "# stimulus_accuracy = accuracy_df[accuracy_df[\"Stimulus\"]==stimulus]\n",
    "\n",
    "fig, ax = plt.subplots(facecolor=\"white\", figsize=[8, 4])\n",
    "sns.stripplot(\n",
    "    data=accuracy_df,\n",
    "    ax=ax,\n",
    "    jitter=True,\n",
    "    alpha=0.5,\n",
    "    zorder=1,\n",
    "    palette=\"Set1\",\n",
    ")\n",
    "sns.pointplot(data=accuracy_df, ax=ax, palette=\"Set1\")\n",
    "ax.set_ylabel(\"Accuracy\")\n",
    "ax.set_ylim(0, 1.1)\n",
    "plt.show()"
   ]
  },
  {
   "cell_type": "markdown",
   "metadata": {},
   "source": [
    "### Boxplot"
   ]
  },
  {
   "cell_type": "raw",
   "metadata": {},
   "source": [
    "classifiers = [\"fbCCA\", \"MSI\", \"MEC\", \"RG_logreg\"]\n",
    "# accuracy_df[classifiers[0]] = accuracy_rg[\"score\"]"
   ]
  },
  {
   "cell_type": "raw",
   "metadata": {},
   "source": [
    "# Create a 2x2 subplot grid\n",
    "fig, ax = plt.subplots()\n",
    "\n",
    "sns.boxplot(\n",
    "    data = accuracy_df[classifiers],\n",
    "    ax = ax,\n",
    "    color = \"black\",\n",
    "    boxprops=dict(facecolor='none'),\n",
    "    # fill = False,\n",
    "    width = 0.5,\n",
    "    linewidth = 1   \n",
    ")\n",
    "\n",
    "sns.stripplot(\n",
    "    data = accuracy_df[classifiers],\n",
    "    ax = ax,\n",
    "    jitter = 0.15,\n",
    "    alpha = 0.9,\n",
    "    zorder = 1,\n",
    "    palette = \"Set1\",\n",
    ")\n",
    "\n",
    "ax.set_ylim(-0.05, 1.05) \n",
    "\n",
    "ax.set_ylabel(\"Accuracy\")\n",
    "# ax.set_xlabel(\"Classifier\")\n",
    "\n",
    "# Adjust the spacing between subplots\n",
    "plt.tight_layout()\n",
    "\n",
    "# Show the plot\n",
    "plt.show()\n",
    "\n",
    "# Save the plot\n",
    "fig.savefig(\"figures\\\\moabb_boxplot_comparison.svg\")\n",
    "\n"
   ]
  },
  {
   "cell_type": "markdown",
   "metadata": {},
   "source": [
    "## Save results\n"
   ]
  },
  {
   "cell_type": "raw",
   "metadata": {},
   "source": [
    "save_results = True\n",
    "\n",
    "if save_results:\n",
    "    accuracy_df.to_csv(\"results_ncan_moabb.csv\")"
   ]
  }
 ],
 "metadata": {
  "kernelspec": {
   "display_name": "Python 3 (ipykernel)",
   "language": "python",
   "name": "python3"
  },
  "language_info": {
   "codemirror_mode": {
    "name": "ipython",
    "version": 3
   },
   "file_extension": ".py",
   "mimetype": "text/x-python",
   "name": "python",
   "nbconvert_exporter": "python",
   "pygments_lexer": "ipython3",
   "version": "3.10.15"
  }
 },
 "nbformat": 4,
 "nbformat_minor": 4
}
