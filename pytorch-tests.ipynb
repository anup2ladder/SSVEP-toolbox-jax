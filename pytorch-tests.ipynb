{
 "cells": [
  {
   "cell_type": "code",
   "execution_count": 1,
   "metadata": {},
   "outputs": [],
   "source": [
    "import torch"
   ]
  },
  {
   "cell_type": "code",
   "execution_count": 7,
   "metadata": {},
   "outputs": [],
   "source": [
    "\n",
    "def get_device(use_gpu=False):\n",
    "    \"\"\"\n",
    "    Determine the device to use for computations based on user preference.\n",
    "\n",
    "    Parameters:\n",
    "        use_gpu (bool): Whether to attempt using a GPU (CUDA, MPS, ROCm).\n",
    "\n",
    "    Returns:\n",
    "        torch.device: The selected computation device.\n",
    "    \"\"\"\n",
    "    if use_gpu:\n",
    "        if torch.cuda.is_available():\n",
    "            print(\"CUDA GPU available. Using CUDA backend.\")\n",
    "            return torch.device(\"cuda\")\n",
    "        elif torch.torch.backends.mps.is_built():\n",
    "            print(\"Metal Performance Shaders (MPS) available. Using Metal backend.\")\n",
    "            return torch.device(\"mps\")  # macOS Metal\n",
    "        elif torch.has_rocm:\n",
    "            print(\"ROCm backend available. Using ROCm GPU.\")\n",
    "            return torch.device(\"cuda\")  # ROCm uses 'cuda' device identifier in PyTorch\n",
    "        else:\n",
    "            print(\"WARNING: No GPU found. Falling back to CPU.\")\n",
    "    else:\n",
    "        print(\"Using CPU as requested.\")\n",
    "\n",
    "    return torch.device(\"cpu\")"
   ]
  },
  {
   "cell_type": "code",
   "execution_count": 9,
   "metadata": {},
   "outputs": [
    {
     "name": "stdout",
     "output_type": "stream",
     "text": [
      "Metal Performance Shaders (MPS) available. Using Metal backend.\n",
      "Using device: mps\n",
      "Matrix generated successfully.\n",
      "An error occurred during computation: The operator 'aten::linalg_qr.out' is not currently implemented for the MPS device. If you want this op to be added in priority during the prototype phase of this feature, please comment on https://github.com/pytorch/pytorch/issues/77764. As a temporary fix, you can set the environment variable `PYTORCH_ENABLE_MPS_FALLBACK=1` to use the CPU as a fallback for this op. WARNING: this will be slower than running natively on MPS.\n",
      "Retrying on CPU...\n",
      "QR decomposition successful on CPU.\n"
     ]
    }
   ],
   "source": [
    "# Select the computation device\n",
    "use_gpu = True\n",
    "device = get_device(use_gpu=use_gpu)\n",
    "print(f\"Using device: {device}\")\n",
    "\n",
    "# Create a random matrix on the selected device\n",
    "try:\n",
    "    A = torch.randn(1000, 500, device=device)  # Generate random tensor\n",
    "    print(\"Matrix generated successfully.\")\n",
    "\n",
    "    # Perform QR decomposition\n",
    "    Q, R = torch.linalg.qr(A)\n",
    "    print(\"QR decomposition successful.\")\n",
    "except RuntimeError as e:\n",
    "    print(f\"An error occurred during computation: {e}\")\n",
    "\n",
    "    # Fallback to CPU if GPU computation fails\n",
    "    if device != torch.device(\"cpu\"):\n",
    "        print(\"Retrying on CPU...\")\n",
    "        A = A.to(\"cpu\")  # Move data to CPU\n",
    "        Q, R = torch.linalg.qr(A)\n",
    "        print(\"QR decomposition successful on CPU.\")"
   ]
  },
  {
   "cell_type": "code",
   "execution_count": null,
   "metadata": {},
   "outputs": [],
   "source": [
    "\n",
    "def main(use_gpu=False):\n",
    "    # Select the computation device\n",
    "    device = get_device(use_gpu=use_gpu)\n",
    "    print(f\"Using device: {device}\")\n",
    "\n",
    "    # Create a random matrix on the selected device\n",
    "    try:\n",
    "        A = torch.randn(1000, 500, device=device)  # Generate random tensor\n",
    "        print(\"Matrix generated successfully.\")\n",
    "\n",
    "        # Perform QR decomposition\n",
    "        Q, R = torch.qr(A)\n",
    "        print(\"QR decomposition successful.\")\n",
    "    except RuntimeError as e:\n",
    "        print(f\"An error occurred during computation: {e}\")\n",
    "\n",
    "        # Fallback to CPU if GPU computation fails\n",
    "        if device != torch.device(\"cpu\"):\n",
    "            print(\"Retrying on CPU...\")\n",
    "            A = A.to(\"cpu\")  # Move data to CPU\n",
    "            Q, R = torch.qr(A)\n",
    "            print(\"QR decomposition successful on CPU.\")\n",
    "\n",
    "if __name__ == \"__main__\":\n",
    "    # Pass `use_gpu=True` to prioritize GPUs, or keep it False for CPU.\n",
    "    main(use_gpu=True)"
   ]
  }
 ],
 "metadata": {
  "kernelspec": {
   "display_name": "Python 3 (ipykernel)",
   "language": "python",
   "name": "python3"
  },
  "orig_nbformat": 4
 },
 "nbformat": 4,
 "nbformat_minor": 2
}
